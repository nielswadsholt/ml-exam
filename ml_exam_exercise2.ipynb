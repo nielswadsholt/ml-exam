{
 "cells": [
  {
   "cell_type": "markdown",
   "metadata": {},
   "source": [
    "<div class=\"h1\">Machine Learning Exam - Exercise 2</div> <a name=\"top\"></a>\n",
    "<div class=\"lead\">PBA in Software Development, Business Academy Aarhus<br><small>Niels Wadsholt, May 2018</small></div>"
   ]
  },
  {
   "cell_type": "markdown",
   "metadata": {},
   "source": [
    "<div class=\"h3\">Table of contents</div> <a name=\"table-of-content\"></a>\n",
    "1. [A. Getting to know the data and the problem](#Part-A)\n",
    "    -  [A.1 Loading the dataset](#Part-A1)\n",
    "2. [B. Cleaning the data](#Part-B)\n",
    "    -  [B.1 Selecting features](#Part-B1)\n",
    "    -  [B.2 Analyzing relationships between features](#Part-B2)\n",
    "    -  [B.3 Removing features](#Part-B3)\n",
    "    -  [B.4 Data conversion](#Part-B4)\n",
    "    -  [B.5 Missing data](#Part-B5)\n",
    "    -  [B.6 Splitting up the data](#Part-B6)\n",
    "    -  [B.7 Feature scaling](#Part-B7)\n",
    "3. [C. Choosing a model and training it](#Part-C)\n",
    "4. [D. Evaluating performance on the test set](#Part-D)\n",
    "5. [E. Experiments](#Part-E)\n",
    "    -  [E.1 Vary number of nodes and layers](#Part-E1)\n",
    "    -  [E.2 Vary batch size](#Part-E2)\n",
    "    -  [E.3 Vary number of epochs](#Part-E3)\n",
    "    -  [E.4 Vary the learning rate](#Part-E4)\n",
    "    -  [E.5 Vary the activation function](#Part-E5)\n",
    "    -  [E.6 Cross-validation](#Part-E6)\n",
    "    -  [E.7 Other algorithms](#Part-E7)\n",
    "6. [Conclusion](#Conclusion)\n",
    "7. [A final note of caution](#Final-note)\n",
    "8. [References](#References)"
   ]
  },
  {
   "cell_type": "markdown",
   "metadata": {},
   "source": [
    "## A. Getting to know the data and the problem<a name=\"Part-A\"></a> <div class=\"pull-right\"><a class=\"anchor-link\" href=\"#top\">&#8679;</a></div>"
   ]
  },
  {
   "cell_type": "markdown",
   "metadata": {},
   "source": [
    "Survival of the Titanic disaster is a **binary classification** problem with two possible outcomes: A passenger either survived or didn't.\n",
    "\n",
    "Because the data set includes *labels* in the 'Survived' column, it is a **supervised learning** problem in which we can train a model using the actual outcomes in the training set and then test it on those from the test set.\n",
    "\n",
    "The dataset consists of 11 features, not including the output value 'Survived':\n",
    "- *PassengerId*\n",
    "- *Pclass* (passenger class)\n",
    "- *Name*\n",
    "- *Sex*\n",
    "- *Age*\n",
    "- *SibSp* (# of siblings / spouses aboard)\n",
    "- *Parch* (# of parents / children aboard)\n",
    "- *Ticket* (a ticket id)\n",
    "- *Fare* (the price paid)\n",
    "- *Cabin* (cabin number)\n",
    "- *Embarked* (port city where the passenger embarked)\n",
    "\n",
    "**Labels**:<br>\n",
    "There is only one labelled column, *Survival*. While it certainly is possible to train a model to predict something other than survival (e.g. passenger class), the stated goal in this assignment is to predict survival. "
   ]
  },
  {
   "cell_type": "markdown",
   "metadata": {},
   "source": [
    "### A.1 Loading the dataset<a name=\"Part-A1\"></a> <div class=\"pull-right\"><a class=\"anchor-link\" href=\"#top\">&#8679;</a></div>"
   ]
  },
  {
   "cell_type": "markdown",
   "metadata": {},
   "source": [
    "First, let's load the dataset into a pandas data frame:"
   ]
  },
  {
   "cell_type": "code",
   "execution_count": 1,
   "metadata": {},
   "outputs": [],
   "source": [
    "import pandas as pd\n",
    "import matplotlib.pyplot as plt\n",
    "from sklearn.preprocessing import StandardScaler\n",
    "from sklearn.neural_network import MLPClassifier\n",
    "from sklearn.metrics import classification_report,confusion_matrix\n",
    "\n",
    "data_url = \"http://pbawebaarhus.dk/ml/titanic_800.csv\"\n",
    "data = pd.read_csv(data_url, sep=\",\", header=0)"
   ]
  },
  {
   "cell_type": "markdown",
   "metadata": {},
   "source": [
    "We can then have a quick look at the first few rows of data:"
   ]
  },
  {
   "cell_type": "code",
   "execution_count": 2,
   "metadata": {
    "scrolled": true
   },
   "outputs": [
    {
     "data": {
      "text/html": [
       "<div>\n",
       "<style scoped>\n",
       "    .dataframe tbody tr th:only-of-type {\n",
       "        vertical-align: middle;\n",
       "    }\n",
       "\n",
       "    .dataframe tbody tr th {\n",
       "        vertical-align: top;\n",
       "    }\n",
       "\n",
       "    .dataframe thead th {\n",
       "        text-align: right;\n",
       "    }\n",
       "</style>\n",
       "<table border=\"1\" class=\"dataframe\">\n",
       "  <thead>\n",
       "    <tr style=\"text-align: right;\">\n",
       "      <th></th>\n",
       "      <th>PassengerId</th>\n",
       "      <th>Survived</th>\n",
       "      <th>Pclass</th>\n",
       "      <th>Name</th>\n",
       "      <th>Sex</th>\n",
       "      <th>Age</th>\n",
       "      <th>SibSp</th>\n",
       "      <th>Parch</th>\n",
       "      <th>Ticket</th>\n",
       "      <th>Fare</th>\n",
       "      <th>Cabin</th>\n",
       "      <th>Embarked</th>\n",
       "    </tr>\n",
       "  </thead>\n",
       "  <tbody>\n",
       "    <tr>\n",
       "      <th>0</th>\n",
       "      <td>1</td>\n",
       "      <td>0</td>\n",
       "      <td>3</td>\n",
       "      <td>Braund, Mr. Owen Harris</td>\n",
       "      <td>male</td>\n",
       "      <td>22.0</td>\n",
       "      <td>1</td>\n",
       "      <td>0</td>\n",
       "      <td>A/5 21171</td>\n",
       "      <td>7.2500</td>\n",
       "      <td>NaN</td>\n",
       "      <td>S</td>\n",
       "    </tr>\n",
       "    <tr>\n",
       "      <th>1</th>\n",
       "      <td>2</td>\n",
       "      <td>1</td>\n",
       "      <td>1</td>\n",
       "      <td>Cumings, Mrs. John Bradley (Florence Briggs Th...</td>\n",
       "      <td>female</td>\n",
       "      <td>38.0</td>\n",
       "      <td>1</td>\n",
       "      <td>0</td>\n",
       "      <td>PC 17599</td>\n",
       "      <td>71.2833</td>\n",
       "      <td>C85</td>\n",
       "      <td>C</td>\n",
       "    </tr>\n",
       "    <tr>\n",
       "      <th>2</th>\n",
       "      <td>3</td>\n",
       "      <td>1</td>\n",
       "      <td>3</td>\n",
       "      <td>Heikkinen, Miss. Laina</td>\n",
       "      <td>female</td>\n",
       "      <td>26.0</td>\n",
       "      <td>0</td>\n",
       "      <td>0</td>\n",
       "      <td>STON/O2. 3101282</td>\n",
       "      <td>7925.0000</td>\n",
       "      <td>NaN</td>\n",
       "      <td>S</td>\n",
       "    </tr>\n",
       "    <tr>\n",
       "      <th>3</th>\n",
       "      <td>4</td>\n",
       "      <td>1</td>\n",
       "      <td>1</td>\n",
       "      <td>Futrelle, Mrs. Jacques Heath (Lily May Peel)</td>\n",
       "      <td>female</td>\n",
       "      <td>35.0</td>\n",
       "      <td>1</td>\n",
       "      <td>0</td>\n",
       "      <td>113803</td>\n",
       "      <td>53.1000</td>\n",
       "      <td>C123</td>\n",
       "      <td>S</td>\n",
       "    </tr>\n",
       "    <tr>\n",
       "      <th>4</th>\n",
       "      <td>5</td>\n",
       "      <td>0</td>\n",
       "      <td>3</td>\n",
       "      <td>Allen, Mr. William Henry</td>\n",
       "      <td>male</td>\n",
       "      <td>35.0</td>\n",
       "      <td>0</td>\n",
       "      <td>0</td>\n",
       "      <td>373450</td>\n",
       "      <td>8.0500</td>\n",
       "      <td>NaN</td>\n",
       "      <td>S</td>\n",
       "    </tr>\n",
       "  </tbody>\n",
       "</table>\n",
       "</div>"
      ],
      "text/plain": [
       "   PassengerId  Survived  Pclass  \\\n",
       "0            1         0       3   \n",
       "1            2         1       1   \n",
       "2            3         1       3   \n",
       "3            4         1       1   \n",
       "4            5         0       3   \n",
       "\n",
       "                                                Name     Sex   Age  SibSp  \\\n",
       "0                            Braund, Mr. Owen Harris    male  22.0      1   \n",
       "1  Cumings, Mrs. John Bradley (Florence Briggs Th...  female  38.0      1   \n",
       "2                             Heikkinen, Miss. Laina  female  26.0      0   \n",
       "3       Futrelle, Mrs. Jacques Heath (Lily May Peel)  female  35.0      1   \n",
       "4                           Allen, Mr. William Henry    male  35.0      0   \n",
       "\n",
       "   Parch            Ticket       Fare Cabin Embarked  \n",
       "0      0         A/5 21171     7.2500   NaN        S  \n",
       "1      0          PC 17599    71.2833   C85        C  \n",
       "2      0  STON/O2. 3101282  7925.0000   NaN        S  \n",
       "3      0            113803    53.1000  C123        S  \n",
       "4      0            373450     8.0500   NaN        S  "
      ]
     },
     "execution_count": 2,
     "metadata": {},
     "output_type": "execute_result"
    }
   ],
   "source": [
    "data.head()"
   ]
  },
  {
   "cell_type": "markdown",
   "metadata": {},
   "source": [
    "... and another arbitrary sample:"
   ]
  },
  {
   "cell_type": "code",
   "execution_count": 3,
   "metadata": {},
   "outputs": [
    {
     "data": {
      "text/html": [
       "<div>\n",
       "<style scoped>\n",
       "    .dataframe tbody tr th:only-of-type {\n",
       "        vertical-align: middle;\n",
       "    }\n",
       "\n",
       "    .dataframe tbody tr th {\n",
       "        vertical-align: top;\n",
       "    }\n",
       "\n",
       "    .dataframe thead th {\n",
       "        text-align: right;\n",
       "    }\n",
       "</style>\n",
       "<table border=\"1\" class=\"dataframe\">\n",
       "  <thead>\n",
       "    <tr style=\"text-align: right;\">\n",
       "      <th></th>\n",
       "      <th>PassengerId</th>\n",
       "      <th>Survived</th>\n",
       "      <th>Pclass</th>\n",
       "      <th>Name</th>\n",
       "      <th>Sex</th>\n",
       "      <th>Age</th>\n",
       "      <th>SibSp</th>\n",
       "      <th>Parch</th>\n",
       "      <th>Ticket</th>\n",
       "      <th>Fare</th>\n",
       "      <th>Cabin</th>\n",
       "      <th>Embarked</th>\n",
       "    </tr>\n",
       "  </thead>\n",
       "  <tbody>\n",
       "    <tr>\n",
       "      <th>250</th>\n",
       "      <td>251</td>\n",
       "      <td>0</td>\n",
       "      <td>3</td>\n",
       "      <td>Reed, Mr. James George</td>\n",
       "      <td>male</td>\n",
       "      <td>NaN</td>\n",
       "      <td>0</td>\n",
       "      <td>0</td>\n",
       "      <td>362316</td>\n",
       "      <td>7.2500</td>\n",
       "      <td>NaN</td>\n",
       "      <td>S</td>\n",
       "    </tr>\n",
       "    <tr>\n",
       "      <th>251</th>\n",
       "      <td>252</td>\n",
       "      <td>0</td>\n",
       "      <td>3</td>\n",
       "      <td>Strom, Mrs. Wilhelm (Elna Matilda Persson)</td>\n",
       "      <td>female</td>\n",
       "      <td>29.0</td>\n",
       "      <td>1</td>\n",
       "      <td>1</td>\n",
       "      <td>347054</td>\n",
       "      <td>10.4625</td>\n",
       "      <td>G6</td>\n",
       "      <td>S</td>\n",
       "    </tr>\n",
       "    <tr>\n",
       "      <th>252</th>\n",
       "      <td>253</td>\n",
       "      <td>0</td>\n",
       "      <td>1</td>\n",
       "      <td>Stead, Mr. William Thomas</td>\n",
       "      <td>male</td>\n",
       "      <td>62.0</td>\n",
       "      <td>0</td>\n",
       "      <td>0</td>\n",
       "      <td>113514</td>\n",
       "      <td>26.5500</td>\n",
       "      <td>C87</td>\n",
       "      <td>S</td>\n",
       "    </tr>\n",
       "    <tr>\n",
       "      <th>253</th>\n",
       "      <td>254</td>\n",
       "      <td>0</td>\n",
       "      <td>3</td>\n",
       "      <td>Lobb, Mr. William Arthur</td>\n",
       "      <td>male</td>\n",
       "      <td>30.0</td>\n",
       "      <td>1</td>\n",
       "      <td>0</td>\n",
       "      <td>A/5. 3336</td>\n",
       "      <td>16.1000</td>\n",
       "      <td>NaN</td>\n",
       "      <td>S</td>\n",
       "    </tr>\n",
       "    <tr>\n",
       "      <th>254</th>\n",
       "      <td>255</td>\n",
       "      <td>0</td>\n",
       "      <td>3</td>\n",
       "      <td>Rosblom, Mrs. Viktor (Helena Wilhelmina)</td>\n",
       "      <td>female</td>\n",
       "      <td>41.0</td>\n",
       "      <td>0</td>\n",
       "      <td>2</td>\n",
       "      <td>370129</td>\n",
       "      <td>20.2125</td>\n",
       "      <td>NaN</td>\n",
       "      <td>S</td>\n",
       "    </tr>\n",
       "  </tbody>\n",
       "</table>\n",
       "</div>"
      ],
      "text/plain": [
       "     PassengerId  Survived  Pclass  \\\n",
       "250          251         0       3   \n",
       "251          252         0       3   \n",
       "252          253         0       1   \n",
       "253          254         0       3   \n",
       "254          255         0       3   \n",
       "\n",
       "                                           Name     Sex   Age  SibSp  Parch  \\\n",
       "250                      Reed, Mr. James George    male   NaN      0      0   \n",
       "251  Strom, Mrs. Wilhelm (Elna Matilda Persson)  female  29.0      1      1   \n",
       "252                   Stead, Mr. William Thomas    male  62.0      0      0   \n",
       "253                    Lobb, Mr. William Arthur    male  30.0      1      0   \n",
       "254    Rosblom, Mrs. Viktor (Helena Wilhelmina)  female  41.0      0      2   \n",
       "\n",
       "        Ticket     Fare Cabin Embarked  \n",
       "250     362316   7.2500   NaN        S  \n",
       "251     347054  10.4625    G6        S  \n",
       "252     113514  26.5500   C87        S  \n",
       "253  A/5. 3336  16.1000   NaN        S  \n",
       "254     370129  20.2125   NaN        S  "
      ]
     },
     "execution_count": 3,
     "metadata": {},
     "output_type": "execute_result"
    }
   ],
   "source": [
    "data[data.columns[:]][250:255]"
   ]
  },
  {
   "cell_type": "markdown",
   "metadata": {},
   "source": [
    "Two things immediately stand out:\n",
    "- The age and cabin columns contain null values\n",
    "- The fare column values vary widely"
   ]
  },
  {
   "cell_type": "markdown",
   "metadata": {},
   "source": [
    "We can also take a look at the core statistics:"
   ]
  },
  {
   "cell_type": "code",
   "execution_count": 4,
   "metadata": {
    "scrolled": true
   },
   "outputs": [
    {
     "data": {
      "text/html": [
       "<div>\n",
       "<style scoped>\n",
       "    .dataframe tbody tr th:only-of-type {\n",
       "        vertical-align: middle;\n",
       "    }\n",
       "\n",
       "    .dataframe tbody tr th {\n",
       "        vertical-align: top;\n",
       "    }\n",
       "\n",
       "    .dataframe thead th {\n",
       "        text-align: right;\n",
       "    }\n",
       "</style>\n",
       "<table border=\"1\" class=\"dataframe\">\n",
       "  <thead>\n",
       "    <tr style=\"text-align: right;\">\n",
       "      <th></th>\n",
       "      <th>PassengerId</th>\n",
       "      <th>Survived</th>\n",
       "      <th>Pclass</th>\n",
       "      <th>Name</th>\n",
       "      <th>Sex</th>\n",
       "      <th>Age</th>\n",
       "      <th>SibSp</th>\n",
       "      <th>Parch</th>\n",
       "      <th>Ticket</th>\n",
       "      <th>Fare</th>\n",
       "      <th>Cabin</th>\n",
       "      <th>Embarked</th>\n",
       "    </tr>\n",
       "  </thead>\n",
       "  <tbody>\n",
       "    <tr>\n",
       "      <th>count</th>\n",
       "      <td>800.0000</td>\n",
       "      <td>800.0000</td>\n",
       "      <td>800.000000</td>\n",
       "      <td>800</td>\n",
       "      <td>800</td>\n",
       "      <td>637.000000</td>\n",
       "      <td>800.000000</td>\n",
       "      <td>800.000000</td>\n",
       "      <td>800</td>\n",
       "      <td>800.000000</td>\n",
       "      <td>185</td>\n",
       "      <td>799</td>\n",
       "    </tr>\n",
       "    <tr>\n",
       "      <th>unique</th>\n",
       "      <td>NaN</td>\n",
       "      <td>NaN</td>\n",
       "      <td>NaN</td>\n",
       "      <td>800</td>\n",
       "      <td>2</td>\n",
       "      <td>NaN</td>\n",
       "      <td>NaN</td>\n",
       "      <td>NaN</td>\n",
       "      <td>625</td>\n",
       "      <td>NaN</td>\n",
       "      <td>136</td>\n",
       "      <td>3</td>\n",
       "    </tr>\n",
       "    <tr>\n",
       "      <th>top</th>\n",
       "      <td>NaN</td>\n",
       "      <td>NaN</td>\n",
       "      <td>NaN</td>\n",
       "      <td>Danbom, Mrs. Ernst Gilbert (Anna Sigrid Maria ...</td>\n",
       "      <td>male</td>\n",
       "      <td>NaN</td>\n",
       "      <td>NaN</td>\n",
       "      <td>NaN</td>\n",
       "      <td>CA 2144</td>\n",
       "      <td>NaN</td>\n",
       "      <td>C23 C25 C27</td>\n",
       "      <td>S</td>\n",
       "    </tr>\n",
       "    <tr>\n",
       "      <th>freq</th>\n",
       "      <td>NaN</td>\n",
       "      <td>NaN</td>\n",
       "      <td>NaN</td>\n",
       "      <td>1</td>\n",
       "      <td>517</td>\n",
       "      <td>NaN</td>\n",
       "      <td>NaN</td>\n",
       "      <td>NaN</td>\n",
       "      <td>6</td>\n",
       "      <td>NaN</td>\n",
       "      <td>4</td>\n",
       "      <td>577</td>\n",
       "    </tr>\n",
       "    <tr>\n",
       "      <th>mean</th>\n",
       "      <td>400.5000</td>\n",
       "      <td>0.3850</td>\n",
       "      <td>2.305000</td>\n",
       "      <td>NaN</td>\n",
       "      <td>NaN</td>\n",
       "      <td>29.871146</td>\n",
       "      <td>0.518750</td>\n",
       "      <td>0.373750</td>\n",
       "      <td>NaN</td>\n",
       "      <td>4284.720098</td>\n",
       "      <td>NaN</td>\n",
       "      <td>NaN</td>\n",
       "    </tr>\n",
       "    <tr>\n",
       "      <th>std</th>\n",
       "      <td>231.0844</td>\n",
       "      <td>0.4869</td>\n",
       "      <td>0.836869</td>\n",
       "      <td>NaN</td>\n",
       "      <td>NaN</td>\n",
       "      <td>14.544301</td>\n",
       "      <td>1.063514</td>\n",
       "      <td>0.801476</td>\n",
       "      <td>NaN</td>\n",
       "      <td>23284.591578</td>\n",
       "      <td>NaN</td>\n",
       "      <td>NaN</td>\n",
       "    </tr>\n",
       "    <tr>\n",
       "      <th>min</th>\n",
       "      <td>1.0000</td>\n",
       "      <td>0.0000</td>\n",
       "      <td>1.000000</td>\n",
       "      <td>NaN</td>\n",
       "      <td>NaN</td>\n",
       "      <td>0.670000</td>\n",
       "      <td>0.000000</td>\n",
       "      <td>0.000000</td>\n",
       "      <td>NaN</td>\n",
       "      <td>0.000000</td>\n",
       "      <td>NaN</td>\n",
       "      <td>NaN</td>\n",
       "    </tr>\n",
       "    <tr>\n",
       "      <th>25%</th>\n",
       "      <td>200.7500</td>\n",
       "      <td>0.0000</td>\n",
       "      <td>2.000000</td>\n",
       "      <td>NaN</td>\n",
       "      <td>NaN</td>\n",
       "      <td>21.000000</td>\n",
       "      <td>0.000000</td>\n",
       "      <td>0.000000</td>\n",
       "      <td>NaN</td>\n",
       "      <td>8.050000</td>\n",
       "      <td>NaN</td>\n",
       "      <td>NaN</td>\n",
       "    </tr>\n",
       "    <tr>\n",
       "      <th>50%</th>\n",
       "      <td>400.5000</td>\n",
       "      <td>0.0000</td>\n",
       "      <td>3.000000</td>\n",
       "      <td>NaN</td>\n",
       "      <td>NaN</td>\n",
       "      <td>28.000000</td>\n",
       "      <td>0.000000</td>\n",
       "      <td>0.000000</td>\n",
       "      <td>NaN</td>\n",
       "      <td>19.966700</td>\n",
       "      <td>NaN</td>\n",
       "      <td>NaN</td>\n",
       "    </tr>\n",
       "    <tr>\n",
       "      <th>75%</th>\n",
       "      <td>600.2500</td>\n",
       "      <td>1.0000</td>\n",
       "      <td>3.000000</td>\n",
       "      <td>NaN</td>\n",
       "      <td>NaN</td>\n",
       "      <td>38.000000</td>\n",
       "      <td>1.000000</td>\n",
       "      <td>0.000000</td>\n",
       "      <td>NaN</td>\n",
       "      <td>57.244800</td>\n",
       "      <td>NaN</td>\n",
       "      <td>NaN</td>\n",
       "    </tr>\n",
       "    <tr>\n",
       "      <th>max</th>\n",
       "      <td>800.0000</td>\n",
       "      <td>1.0000</td>\n",
       "      <td>3.000000</td>\n",
       "      <td>NaN</td>\n",
       "      <td>NaN</td>\n",
       "      <td>80.000000</td>\n",
       "      <td>8.000000</td>\n",
       "      <td>6.000000</td>\n",
       "      <td>NaN</td>\n",
       "      <td>262375.000000</td>\n",
       "      <td>NaN</td>\n",
       "      <td>NaN</td>\n",
       "    </tr>\n",
       "  </tbody>\n",
       "</table>\n",
       "</div>"
      ],
      "text/plain": [
       "        PassengerId  Survived      Pclass  \\\n",
       "count      800.0000  800.0000  800.000000   \n",
       "unique          NaN       NaN         NaN   \n",
       "top             NaN       NaN         NaN   \n",
       "freq            NaN       NaN         NaN   \n",
       "mean       400.5000    0.3850    2.305000   \n",
       "std        231.0844    0.4869    0.836869   \n",
       "min          1.0000    0.0000    1.000000   \n",
       "25%        200.7500    0.0000    2.000000   \n",
       "50%        400.5000    0.0000    3.000000   \n",
       "75%        600.2500    1.0000    3.000000   \n",
       "max        800.0000    1.0000    3.000000   \n",
       "\n",
       "                                                     Name   Sex         Age  \\\n",
       "count                                                 800   800  637.000000   \n",
       "unique                                                800     2         NaN   \n",
       "top     Danbom, Mrs. Ernst Gilbert (Anna Sigrid Maria ...  male         NaN   \n",
       "freq                                                    1   517         NaN   \n",
       "mean                                                  NaN   NaN   29.871146   \n",
       "std                                                   NaN   NaN   14.544301   \n",
       "min                                                   NaN   NaN    0.670000   \n",
       "25%                                                   NaN   NaN   21.000000   \n",
       "50%                                                   NaN   NaN   28.000000   \n",
       "75%                                                   NaN   NaN   38.000000   \n",
       "max                                                   NaN   NaN   80.000000   \n",
       "\n",
       "             SibSp       Parch   Ticket           Fare        Cabin Embarked  \n",
       "count   800.000000  800.000000      800     800.000000          185      799  \n",
       "unique         NaN         NaN      625            NaN          136        3  \n",
       "top            NaN         NaN  CA 2144            NaN  C23 C25 C27        S  \n",
       "freq           NaN         NaN        6            NaN            4      577  \n",
       "mean      0.518750    0.373750      NaN    4284.720098          NaN      NaN  \n",
       "std       1.063514    0.801476      NaN   23284.591578          NaN      NaN  \n",
       "min       0.000000    0.000000      NaN       0.000000          NaN      NaN  \n",
       "25%       0.000000    0.000000      NaN       8.050000          NaN      NaN  \n",
       "50%       0.000000    0.000000      NaN      19.966700          NaN      NaN  \n",
       "75%       1.000000    0.000000      NaN      57.244800          NaN      NaN  \n",
       "max       8.000000    6.000000      NaN  262375.000000          NaN      NaN  "
      ]
     },
     "execution_count": 4,
     "metadata": {},
     "output_type": "execute_result"
    }
   ],
   "source": [
    "data.describe(include='all')"
   ]
  },
  {
   "cell_type": "markdown",
   "metadata": {},
   "source": [
    "A few things to note here:\n",
    "- There are 800 passengers but only 625 unique tickets, and the top ticket CA 2144 has 6 occurencies\n",
    "- The fare ranges from 0 to 262375\n",
    "- The top cabin 'C23 C25 C27' has 4 occurencies"
   ]
  },
  {
   "cell_type": "markdown",
   "metadata": {},
   "source": [
    "## B. Cleaning the data<a name=\"Part-B\"></a> <div class=\"pull-right\"><a class=\"anchor-link\" href=\"#top\">&#8679;</a></div>"
   ]
  },
  {
   "cell_type": "markdown",
   "metadata": {},
   "source": [
    "### B.1 Selecting features<a name=\"Part-B1\"></a> <div class=\"pull-right\"><a class=\"anchor-link\" href=\"#top\">&#8679;</a></div>"
   ]
  },
  {
   "cell_type": "markdown",
   "metadata": {},
   "source": [
    "Because each feature slows down the training, and because unimportant or distorting features can hurt the model's prediction accuracy, feature selection is naturally very important.\n",
    "\n",
    "Of all the features, **PassengerId**, **Name** and **Ticket** are probably the least likely to tell anything valueable about survival and can safely be filtered out.\n",
    "\n",
    "Or can they? Let's briefly look at possible counter arguments:\n",
    "1. PassengerId: The id numbers are consecutive starting from 1. Could it be that the safest cabins aboard were filled first and a lower id therefore means higher survival chance?\n",
    "2. Name: Could there be some underlying patterns here related to socioeconomic status and/or genetic features that again had an impact on survival chances?\n",
    "3. Ticket: Could ticket numbers hide valuable information? Some of them contain letters, some don't. Is that significant? As noted above, there are more passengers than tickets. What is the implication of that?\n",
    "\n",
    "Regarding PassengerId: This can eaily be tested.<br>\n",
    "Regarding Name: Maybe, but as the number of possible surnames is huge, the dataset would probably have to be considerably larger to reveal such patterns.<br>\n",
    "Regarding Ticket: There is enough here to merit further investigation.\n",
    "\n",
    "On the other side of the spectrum, the most obvious candidates to reveal something valueable about survival are **Age**, **Sex** and **Pclass**.\n",
    "\n",
    "**Fare** and **Cabin**, like Pclass, likely holds information related to socioeconomic status.\n",
    "\n",
    "The value of **SibSp**, **Parch** and **Embarked** is harder to predict and must be determined through testing."
   ]
  },
  {
   "cell_type": "markdown",
   "metadata": {},
   "source": [
    "### B.2 Analyzing relationships between features<a name=\"Part-B2\"></a> <div class=\"pull-right\"><a class=\"anchor-link\" href=\"#top\">&#8679;</a></div>\n",
    "To examine each feature's influence on survival, we can simply plot each of them against it."
   ]
  },
  {
   "cell_type": "markdown",
   "metadata": {},
   "source": [
    "#### PassengerId\n",
    "Let's start by testing one of the more far-fetched theories discussed above, the correlation between passenger id and survival:"
   ]
  },
  {
   "cell_type": "code",
   "execution_count": 5,
   "metadata": {},
   "outputs": [
    {
     "data": {
      "image/png": "[encoded data removed]",
      "text/plain": [
       "<Figure size 432x288 with 1 Axes>"
      ]
     },
     "metadata": {},
     "output_type": "display_data"
    }
   ],
   "source": [
    "x_lbl = 'PassengerId'\n",
    "y_lbl = 'Survived'\n",
    "\n",
    "plt.figure()\n",
    "plt.scatter(data[x_lbl], data[y_lbl], color='darkred', s=20)\n",
    "plt.xlabel(x_lbl)\n",
    "plt.ylabel(y_lbl)\n",
    "plt.show()"
   ]
  },
  {
   "cell_type": "markdown",
   "metadata": {},
   "source": [
    "The result is pretty convincing in it's refusal of a correlation. PassengerId is out."
   ]
  },
  {
   "cell_type": "markdown",
   "metadata": {},
   "source": [
    "#### Passenger class\n",
    "\\- What is interesting here is of course the survival _percentage_ for the three classes:"
   ]
  },
  {
   "cell_type": "code",
   "execution_count": 6,
   "metadata": {},
   "outputs": [
    {
     "data": {
      "text/plain": [
       "1    61\n",
       "3    24\n",
       "2    48\n",
       "Name: Pclass, dtype: int64"
      ]
     },
     "execution_count": 6,
     "metadata": {},
     "output_type": "execute_result"
    }
   ],
   "source": [
    "survivors_by_pclass = data[data['Survived'] == 1]['Pclass'].value_counts()\n",
    "all_by_pclass = data['Pclass'].value_counts()\n",
    "survived_pct_by_pclass = survivors_by_pclass.copy()\n",
    "\n",
    "for key in survivors_by_pclass.keys():\n",
    "    survived_pct_by_pclass[key] = 100 * survived_pct_by_pclass[key] / all_by_pclass[key]\n",
    "\n",
    "survived_pct_by_pclass"
   ]
  },
  {
   "cell_type": "code",
   "execution_count": 7,
   "metadata": {
    "scrolled": true
   },
   "outputs": [
    {
     "data": {
      "image/png": "[encoded data removed]",
      "text/plain": [
       "<Figure size 432x288 with 1 Axes>"
      ]
     },
     "metadata": {},
     "output_type": "display_data"
    }
   ],
   "source": [
    "survived_pct_by_pclass.sort_values(ascending=False).plot(kind='bar')\n",
    "plt.xlabel('Pclass')\n",
    "plt.ylabel('Survived')\n",
    "plt.show()"
   ]
  },
  {
   "cell_type": "markdown",
   "metadata": {},
   "source": [
    "As expected, there is a strong correlation between passenger class and survival. Pclass is in."
   ]
  },
  {
   "cell_type": "markdown",
   "metadata": {},
   "source": [
    "#### Age\n",
    "It seems selv-evident that there must be a correlation between  age and survival, but apart from the highest age range, plotting age directly vs. survival does not look entirely convincing:"
   ]
  },
  {
   "cell_type": "code",
   "execution_count": 8,
   "metadata": {
    "scrolled": true
   },
   "outputs": [
    {
     "data": {
      "image/png": "[encoded data removed]",
      "text/plain": [
       "<Figure size 432x288 with 1 Axes>"
      ]
     },
     "metadata": {},
     "output_type": "display_data"
    }
   ],
   "source": [
    "x_lbl = 'Age'\n",
    "y_lbl = 'Survived'\n",
    "\n",
    "plt.figure()\n",
    "plt.scatter(data[x_lbl], data[y_lbl], color='blue', s=20)\n",
    "plt.xlabel(x_lbl)\n",
    "plt.ylabel(y_lbl)\n",
    "plt.show()"
   ]
  },
  {
   "cell_type": "markdown",
   "metadata": {},
   "source": [
    "To gain confidence that there in fact is a correlation, we can look at the correlation with passenger class, which we just established *did* have a correlation with survival:"
   ]
  },
  {
   "cell_type": "code",
   "execution_count": 9,
   "metadata": {},
   "outputs": [
    {
     "data": {
      "image/png": "[encoded data removed]",
      "text/plain": [
       "<Figure size 432x288 with 1 Axes>"
      ]
     },
     "metadata": {},
     "output_type": "display_data"
    }
   ],
   "source": [
    "x_lbl = 'Age'\n",
    "y_lbl = 'Pclass'\n",
    "\n",
    "plt.figure()\n",
    "plt.scatter(data[x_lbl], data[y_lbl], color='green', s=20)\n",
    "plt.xlabel(x_lbl)\n",
    "plt.ylabel(y_lbl)\n",
    "plt.show()"
   ]
  },
  {
   "cell_type": "markdown",
   "metadata": {},
   "source": [
    "This reveals not too surprisingly a fairly clear correlation between age and passenger class. If nothing else, age must then at least be guilty by association. Age is in."
   ]
  },
  {
   "cell_type": "markdown",
   "metadata": {},
   "source": [
    "#### Sex\n",
    "Let's try the same for sex as we did for passenger class:"
   ]
  },
  {
   "cell_type": "code",
   "execution_count": 10,
   "metadata": {},
   "outputs": [],
   "source": [
    "survivors_by_gender = data[data['Survived'] == 1]['Sex'].value_counts()\n",
    "all_by_gender = data['Sex'].value_counts()\n",
    "survived_pct_by_gender = survivors_by_gender.copy()"
   ]
  },
  {
   "cell_type": "code",
   "execution_count": 11,
   "metadata": {},
   "outputs": [
    {
     "data": {
      "text/plain": [
       "female    74\n",
       "male      18\n",
       "Name: Sex, dtype: int64"
      ]
     },
     "execution_count": 11,
     "metadata": {},
     "output_type": "execute_result"
    }
   ],
   "source": [
    "for key in survivors_by_gender.keys():\n",
    "    survived_pct_by_gender[key] = 100 * survivors_by_gender[key] / all_by_gender[key]\n",
    "\n",
    "survived_pct_by_gender"
   ]
  },
  {
   "cell_type": "code",
   "execution_count": 12,
   "metadata": {
    "scrolled": true
   },
   "outputs": [
    {
     "data": {
      "image/png": "[encoded data removed]",
      "text/plain": [
       "<Figure size 432x288 with 1 Axes>"
      ]
     },
     "metadata": {},
     "output_type": "display_data"
    }
   ],
   "source": [
    "survived_pct_by_gender.plot(kind='bar')\n",
    "plt.xlabel('Sex')\n",
    "plt.ylabel('Survived')\n",
    "plt.show()"
   ]
  },
  {
   "cell_type": "markdown",
   "metadata": {},
   "source": [
    "The result could not have been clearer. Sex is in."
   ]
  },
  {
   "cell_type": "markdown",
   "metadata": {},
   "source": [
    "#### Siblings and spouses\n",
    "What about siblings and spouses?"
   ]
  },
  {
   "cell_type": "code",
   "execution_count": 13,
   "metadata": {},
   "outputs": [],
   "source": [
    "survivors_by_sibsp = data[data['Survived'] == 1]['SibSp'].value_counts()\n",
    "all_by_sibsp = data['SibSp'].value_counts()\n",
    "survived_pct_by_sibsp = survivors_by_sibsp.copy()"
   ]
  },
  {
   "cell_type": "code",
   "execution_count": 14,
   "metadata": {
    "scrolled": true
   },
   "outputs": [
    {
     "data": {
      "text/plain": [
       "0    34\n",
       "1    51\n",
       "2    48\n",
       "3    26\n",
       "4    20\n",
       "Name: SibSp, dtype: int64"
      ]
     },
     "execution_count": 14,
     "metadata": {},
     "output_type": "execute_result"
    }
   ],
   "source": [
    "for key in survivors_by_sibsp.keys():\n",
    "    survived_pct_by_sibsp[key] = 100 * survivors_by_sibsp[key] / all_by_sibsp[key]\n",
    "\n",
    "survived_pct_by_sibsp"
   ]
  },
  {
   "cell_type": "code",
   "execution_count": 15,
   "metadata": {
    "scrolled": true
   },
   "outputs": [
    {
     "data": {
      "image/png": "[encoded data removed]",
      "text/plain": [
       "<Figure size 432x288 with 1 Axes>"
      ]
     },
     "metadata": {},
     "output_type": "display_data"
    }
   ],
   "source": [
    "survived_pct_by_sibsp.plot(kind='bar')\n",
    "plt.xlabel('Sib/Sp')\n",
    "plt.ylabel('Survived')\n",
    "plt.show()"
   ]
  },
  {
   "cell_type": "markdown",
   "metadata": {},
   "source": [
    "It appears that having a spouse or one or two siblings increases the chance of survival while it decreases with a high number of siblings. SibSp is in."
   ]
  },
  {
   "cell_type": "markdown",
   "metadata": {},
   "source": [
    "#### Parents and children\n",
    "Next, let's have a look at parents and children:"
   ]
  },
  {
   "cell_type": "code",
   "execution_count": 16,
   "metadata": {},
   "outputs": [],
   "source": [
    "survivors_by_parch = data[data['Survived'] == 1]['Parch'].value_counts()\n",
    "all_by_parch = data['Parch'].value_counts()\n",
    "survived_pct_by_parch = survivors_by_parch.copy()"
   ]
  },
  {
   "cell_type": "code",
   "execution_count": 17,
   "metadata": {
    "scrolled": true
   },
   "outputs": [
    {
     "data": {
      "text/plain": [
       "0    35\n",
       "1    51\n",
       "2    52\n",
       "3    50\n",
       "5    25\n",
       "Name: Parch, dtype: int64"
      ]
     },
     "execution_count": 17,
     "metadata": {},
     "output_type": "execute_result"
    }
   ],
   "source": [
    "for key in survivors_by_parch.keys():\n",
    "    survived_pct_by_parch[key] = 100 * survivors_by_parch[key] / all_by_parch[key]\n",
    "\n",
    "survived_pct_by_parch"
   ]
  },
  {
   "cell_type": "code",
   "execution_count": 18,
   "metadata": {
    "scrolled": false
   },
   "outputs": [
    {
     "data": {
      "image/png": "[encoded data removed]",
      "text/plain": [
       "<Figure size 432x288 with 1 Axes>"
      ]
     },
     "metadata": {},
     "output_type": "display_data"
    }
   ],
   "source": [
    "survived_pct_by_parch.plot(kind='bar')\n",
    "plt.xlabel('Parch')\n",
    "plt.ylabel('Survived')\n",
    "plt.show()"
   ]
  },
  {
   "cell_type": "markdown",
   "metadata": {},
   "source": [
    "As with siblings and spouses, a number in the middle appears to yield the best survival chance. Parch is in."
   ]
  },
  {
   "cell_type": "markdown",
   "metadata": {},
   "source": [
    "#### Fare and ticket\n",
    "As noted before, there are huge flunctuations in the fare column. At the same time, there are more passengers than tickets. Could the two be connected?\n",
    "\n",
    "Let's examine this by comparing the top 20 of those rows with the bottom 20:"
   ]
  },
  {
   "cell_type": "code",
   "execution_count": 19,
   "metadata": {
    "scrolled": true
   },
   "outputs": [
    {
     "data": {
      "text/html": [
       "<div>\n",
       "<style scoped>\n",
       "    .dataframe tbody tr th:only-of-type {\n",
       "        vertical-align: middle;\n",
       "    }\n",
       "\n",
       "    .dataframe tbody tr th {\n",
       "        vertical-align: top;\n",
       "    }\n",
       "\n",
       "    .dataframe thead th {\n",
       "        text-align: right;\n",
       "    }\n",
       "</style>\n",
       "<table border=\"1\" class=\"dataframe\">\n",
       "  <thead>\n",
       "    <tr style=\"text-align: right;\">\n",
       "      <th></th>\n",
       "      <th>Survived</th>\n",
       "      <th>Ticket</th>\n",
       "      <th>Fare</th>\n",
       "    </tr>\n",
       "  </thead>\n",
       "  <tbody>\n",
       "    <tr>\n",
       "      <th>311</th>\n",
       "      <td>1</td>\n",
       "      <td>PC 17608</td>\n",
       "      <td>262375.0</td>\n",
       "    </tr>\n",
       "    <tr>\n",
       "      <th>742</th>\n",
       "      <td>1</td>\n",
       "      <td>PC 17608</td>\n",
       "      <td>262375.0</td>\n",
       "    </tr>\n",
       "    <tr>\n",
       "      <th>380</th>\n",
       "      <td>1</td>\n",
       "      <td>PC 17757</td>\n",
       "      <td>227525.0</td>\n",
       "    </tr>\n",
       "    <tr>\n",
       "      <th>557</th>\n",
       "      <td>0</td>\n",
       "      <td>PC 17757</td>\n",
       "      <td>227525.0</td>\n",
       "    </tr>\n",
       "    <tr>\n",
       "      <th>700</th>\n",
       "      <td>1</td>\n",
       "      <td>PC 17757</td>\n",
       "      <td>227525.0</td>\n",
       "    </tr>\n",
       "    <tr>\n",
       "      <th>716</th>\n",
       "      <td>1</td>\n",
       "      <td>PC 17757</td>\n",
       "      <td>227525.0</td>\n",
       "    </tr>\n",
       "    <tr>\n",
       "      <th>215</th>\n",
       "      <td>1</td>\n",
       "      <td>35273</td>\n",
       "      <td>113275.0</td>\n",
       "    </tr>\n",
       "    <tr>\n",
       "      <th>393</th>\n",
       "      <td>1</td>\n",
       "      <td>35273</td>\n",
       "      <td>113275.0</td>\n",
       "    </tr>\n",
       "    <tr>\n",
       "      <th>659</th>\n",
       "      <td>0</td>\n",
       "      <td>35273</td>\n",
       "      <td>113275.0</td>\n",
       "    </tr>\n",
       "    <tr>\n",
       "      <th>537</th>\n",
       "      <td>1</td>\n",
       "      <td>PC 17761</td>\n",
       "      <td>106425.0</td>\n",
       "    </tr>\n",
       "    <tr>\n",
       "      <th>544</th>\n",
       "      <td>0</td>\n",
       "      <td>PC 17761</td>\n",
       "      <td>106425.0</td>\n",
       "    </tr>\n",
       "    <tr>\n",
       "      <th>62</th>\n",
       "      <td>0</td>\n",
       "      <td>36973</td>\n",
       "      <td>83475.0</td>\n",
       "    </tr>\n",
       "    <tr>\n",
       "      <th>230</th>\n",
       "      <td>1</td>\n",
       "      <td>36973</td>\n",
       "      <td>83475.0</td>\n",
       "    </tr>\n",
       "    <tr>\n",
       "      <th>92</th>\n",
       "      <td>0</td>\n",
       "      <td>W.E.P. 5734</td>\n",
       "      <td>61175.0</td>\n",
       "    </tr>\n",
       "    <tr>\n",
       "      <th>583</th>\n",
       "      <td>0</td>\n",
       "      <td>13049</td>\n",
       "      <td>40125.0</td>\n",
       "    </tr>\n",
       "    <tr>\n",
       "      <th>86</th>\n",
       "      <td>0</td>\n",
       "      <td>W./C. 6608</td>\n",
       "      <td>34375.0</td>\n",
       "    </tr>\n",
       "    <tr>\n",
       "      <th>147</th>\n",
       "      <td>0</td>\n",
       "      <td>W./C. 6608</td>\n",
       "      <td>34375.0</td>\n",
       "    </tr>\n",
       "    <tr>\n",
       "      <th>436</th>\n",
       "      <td>0</td>\n",
       "      <td>W./C. 6608</td>\n",
       "      <td>34375.0</td>\n",
       "    </tr>\n",
       "    <tr>\n",
       "      <th>736</th>\n",
       "      <td>0</td>\n",
       "      <td>W./C. 6608</td>\n",
       "      <td>34375.0</td>\n",
       "    </tr>\n",
       "    <tr>\n",
       "      <th>13</th>\n",
       "      <td>0</td>\n",
       "      <td>347082</td>\n",
       "      <td>31275.0</td>\n",
       "    </tr>\n",
       "  </tbody>\n",
       "</table>\n",
       "</div>"
      ],
      "text/plain": [
       "     Survived       Ticket      Fare\n",
       "311         1     PC 17608  262375.0\n",
       "742         1     PC 17608  262375.0\n",
       "380         1     PC 17757  227525.0\n",
       "557         0     PC 17757  227525.0\n",
       "700         1     PC 17757  227525.0\n",
       "716         1     PC 17757  227525.0\n",
       "215         1        35273  113275.0\n",
       "393         1        35273  113275.0\n",
       "659         0        35273  113275.0\n",
       "537         1     PC 17761  106425.0\n",
       "544         0     PC 17761  106425.0\n",
       "62          0        36973   83475.0\n",
       "230         1        36973   83475.0\n",
       "92          0  W.E.P. 5734   61175.0\n",
       "583         0        13049   40125.0\n",
       "86          0   W./C. 6608   34375.0\n",
       "147         0   W./C. 6608   34375.0\n",
       "436         0   W./C. 6608   34375.0\n",
       "736         0   W./C. 6608   34375.0\n",
       "13          0       347082   31275.0"
      ]
     },
     "execution_count": 19,
     "metadata": {},
     "output_type": "execute_result"
    }
   ],
   "source": [
    "data[['Survived', 'Ticket', 'Fare']].nlargest(20, ['Fare'])"
   ]
  },
  {
   "cell_type": "code",
   "execution_count": 20,
   "metadata": {},
   "outputs": [
    {
     "data": {
      "text/html": [
       "<div>\n",
       "<style scoped>\n",
       "    .dataframe tbody tr th:only-of-type {\n",
       "        vertical-align: middle;\n",
       "    }\n",
       "\n",
       "    .dataframe tbody tr th {\n",
       "        vertical-align: top;\n",
       "    }\n",
       "\n",
       "    .dataframe thead th {\n",
       "        text-align: right;\n",
       "    }\n",
       "</style>\n",
       "<table border=\"1\" class=\"dataframe\">\n",
       "  <thead>\n",
       "    <tr style=\"text-align: right;\">\n",
       "      <th></th>\n",
       "      <th>Survived</th>\n",
       "      <th>Ticket</th>\n",
       "      <th>Fare</th>\n",
       "    </tr>\n",
       "  </thead>\n",
       "  <tbody>\n",
       "    <tr>\n",
       "      <th>179</th>\n",
       "      <td>0</td>\n",
       "      <td>LINE</td>\n",
       "      <td>0.0000</td>\n",
       "    </tr>\n",
       "    <tr>\n",
       "      <th>263</th>\n",
       "      <td>0</td>\n",
       "      <td>112059</td>\n",
       "      <td>0.0000</td>\n",
       "    </tr>\n",
       "    <tr>\n",
       "      <th>271</th>\n",
       "      <td>1</td>\n",
       "      <td>LINE</td>\n",
       "      <td>0.0000</td>\n",
       "    </tr>\n",
       "    <tr>\n",
       "      <th>277</th>\n",
       "      <td>0</td>\n",
       "      <td>239853</td>\n",
       "      <td>0.0000</td>\n",
       "    </tr>\n",
       "    <tr>\n",
       "      <th>302</th>\n",
       "      <td>0</td>\n",
       "      <td>LINE</td>\n",
       "      <td>0.0000</td>\n",
       "    </tr>\n",
       "    <tr>\n",
       "      <th>413</th>\n",
       "      <td>0</td>\n",
       "      <td>239853</td>\n",
       "      <td>0.0000</td>\n",
       "    </tr>\n",
       "    <tr>\n",
       "      <th>466</th>\n",
       "      <td>0</td>\n",
       "      <td>239853</td>\n",
       "      <td>0.0000</td>\n",
       "    </tr>\n",
       "    <tr>\n",
       "      <th>481</th>\n",
       "      <td>0</td>\n",
       "      <td>239854</td>\n",
       "      <td>0.0000</td>\n",
       "    </tr>\n",
       "    <tr>\n",
       "      <th>597</th>\n",
       "      <td>0</td>\n",
       "      <td>LINE</td>\n",
       "      <td>0.0000</td>\n",
       "    </tr>\n",
       "    <tr>\n",
       "      <th>633</th>\n",
       "      <td>0</td>\n",
       "      <td>112052</td>\n",
       "      <td>0.0000</td>\n",
       "    </tr>\n",
       "    <tr>\n",
       "      <th>674</th>\n",
       "      <td>0</td>\n",
       "      <td>239856</td>\n",
       "      <td>0.0000</td>\n",
       "    </tr>\n",
       "    <tr>\n",
       "      <th>732</th>\n",
       "      <td>0</td>\n",
       "      <td>239855</td>\n",
       "      <td>0.0000</td>\n",
       "    </tr>\n",
       "    <tr>\n",
       "      <th>378</th>\n",
       "      <td>0</td>\n",
       "      <td>2648</td>\n",
       "      <td>4.0125</td>\n",
       "    </tr>\n",
       "    <tr>\n",
       "      <th>326</th>\n",
       "      <td>0</td>\n",
       "      <td>345364</td>\n",
       "      <td>6.2375</td>\n",
       "    </tr>\n",
       "    <tr>\n",
       "      <th>202</th>\n",
       "      <td>0</td>\n",
       "      <td>3101264</td>\n",
       "      <td>6.4958</td>\n",
       "    </tr>\n",
       "    <tr>\n",
       "      <th>371</th>\n",
       "      <td>0</td>\n",
       "      <td>3101267</td>\n",
       "      <td>6.4958</td>\n",
       "    </tr>\n",
       "    <tr>\n",
       "      <th>143</th>\n",
       "      <td>0</td>\n",
       "      <td>365222</td>\n",
       "      <td>6.7500</td>\n",
       "    </tr>\n",
       "    <tr>\n",
       "      <th>654</th>\n",
       "      <td>0</td>\n",
       "      <td>365226</td>\n",
       "      <td>6.7500</td>\n",
       "    </tr>\n",
       "    <tr>\n",
       "      <th>411</th>\n",
       "      <td>0</td>\n",
       "      <td>394140</td>\n",
       "      <td>6.8583</td>\n",
       "    </tr>\n",
       "    <tr>\n",
       "      <th>477</th>\n",
       "      <td>0</td>\n",
       "      <td>3460</td>\n",
       "      <td>7.0458</td>\n",
       "    </tr>\n",
       "  </tbody>\n",
       "</table>\n",
       "</div>"
      ],
      "text/plain": [
       "     Survived   Ticket    Fare\n",
       "179         0     LINE  0.0000\n",
       "263         0   112059  0.0000\n",
       "271         1     LINE  0.0000\n",
       "277         0   239853  0.0000\n",
       "302         0     LINE  0.0000\n",
       "413         0   239853  0.0000\n",
       "466         0   239853  0.0000\n",
       "481         0   239854  0.0000\n",
       "597         0     LINE  0.0000\n",
       "633         0   112052  0.0000\n",
       "674         0   239856  0.0000\n",
       "732         0   239855  0.0000\n",
       "378         0     2648  4.0125\n",
       "326         0   345364  6.2375\n",
       "202         0  3101264  6.4958\n",
       "371         0  3101267  6.4958\n",
       "143         0   365222  6.7500\n",
       "654         0   365226  6.7500\n",
       "411         0   394140  6.8583\n",
       "477         0     3460  7.0458"
      ]
     },
     "execution_count": 20,
     "metadata": {},
     "output_type": "execute_result"
    }
   ],
   "source": [
    "data[['Survived', 'Ticket', 'Fare']].nsmallest(20, ['Fare'])"
   ]
  },
  {
   "cell_type": "markdown",
   "metadata": {},
   "source": [
    "This is interesting. It appears that several passengers can share the same ticket while the fare refers to the *ticket* - **not** the individual *passenger*!\n",
    "\n",
    "This means that values in the fare column should be divided by the number of passengers sharing the same ticket. Of course some might have a larger share of ticket fares than others, but splitting the bills evenly should be good enough.\n",
    "\n",
    "To do this, let's first get a list of ticket occurency frequencies:"
   ]
  },
  {
   "cell_type": "code",
   "execution_count": 21,
   "metadata": {},
   "outputs": [
    {
     "data": {
      "text/plain": [
       "CA 2144         6\n",
       "347088          5\n",
       "347082          5\n",
       "3101295         5\n",
       "CA. 2343        5\n",
       "1601            5\n",
       "S.O.C. 14879    5\n",
       "PC 17757        4\n",
       "382652          4\n",
       "347077          4\n",
       "Name: Ticket, dtype: int64"
      ]
     },
     "execution_count": 21,
     "metadata": {},
     "output_type": "execute_result"
    }
   ],
   "source": [
    "ticket_freq = data['Ticket'].value_counts()\n",
    "ticket_freq.nlargest(10)"
   ]
  },
  {
   "cell_type": "markdown",
   "metadata": {},
   "source": [
    "We can then use this to divide each passenger's fare by the number of ticket occurencies:"
   ]
  },
  {
   "cell_type": "code",
   "execution_count": 22,
   "metadata": {},
   "outputs": [
    {
     "data": {
      "text/plain": [
       "0       7.25000\n",
       "1      71.28330\n",
       "2    7925.00000\n",
       "3      26.55000\n",
       "4       8.05000\n",
       "5       8.45830\n",
       "6      51.86250\n",
       "7    5268.75000\n",
       "8       5.56665\n",
       "9      15.03540\n",
       "dtype: float64"
      ]
     },
     "execution_count": 22,
     "metadata": {},
     "output_type": "execute_result"
    }
   ],
   "source": [
    "ticket_freq_by_passenger = data['Ticket'].apply(lambda x: ticket_freq[x])\n",
    "divided_fares = data['Fare'].div(ticket_freq_by_passenger, 1)\n",
    "divided_fares.head(10)"
   ]
  },
  {
   "cell_type": "markdown",
   "metadata": {},
   "source": [
    "To verify, let's compare with the original fares:"
   ]
  },
  {
   "cell_type": "code",
   "execution_count": 23,
   "metadata": {},
   "outputs": [
    {
     "data": {
      "text/html": [
       "<div>\n",
       "<style scoped>\n",
       "    .dataframe tbody tr th:only-of-type {\n",
       "        vertical-align: middle;\n",
       "    }\n",
       "\n",
       "    .dataframe tbody tr th {\n",
       "        vertical-align: top;\n",
       "    }\n",
       "\n",
       "    .dataframe thead th {\n",
       "        text-align: right;\n",
       "    }\n",
       "</style>\n",
       "<table border=\"1\" class=\"dataframe\">\n",
       "  <thead>\n",
       "    <tr style=\"text-align: right;\">\n",
       "      <th></th>\n",
       "      <th>Survived</th>\n",
       "      <th>Ticket</th>\n",
       "      <th>Fare</th>\n",
       "    </tr>\n",
       "  </thead>\n",
       "  <tbody>\n",
       "    <tr>\n",
       "      <th>0</th>\n",
       "      <td>0</td>\n",
       "      <td>A/5 21171</td>\n",
       "      <td>7.2500</td>\n",
       "    </tr>\n",
       "    <tr>\n",
       "      <th>1</th>\n",
       "      <td>1</td>\n",
       "      <td>PC 17599</td>\n",
       "      <td>71.2833</td>\n",
       "    </tr>\n",
       "    <tr>\n",
       "      <th>2</th>\n",
       "      <td>1</td>\n",
       "      <td>STON/O2. 3101282</td>\n",
       "      <td>7925.0000</td>\n",
       "    </tr>\n",
       "    <tr>\n",
       "      <th>3</th>\n",
       "      <td>1</td>\n",
       "      <td>113803</td>\n",
       "      <td>53.1000</td>\n",
       "    </tr>\n",
       "    <tr>\n",
       "      <th>4</th>\n",
       "      <td>0</td>\n",
       "      <td>373450</td>\n",
       "      <td>8.0500</td>\n",
       "    </tr>\n",
       "    <tr>\n",
       "      <th>5</th>\n",
       "      <td>0</td>\n",
       "      <td>330877</td>\n",
       "      <td>8.4583</td>\n",
       "    </tr>\n",
       "    <tr>\n",
       "      <th>6</th>\n",
       "      <td>0</td>\n",
       "      <td>17463</td>\n",
       "      <td>51.8625</td>\n",
       "    </tr>\n",
       "    <tr>\n",
       "      <th>7</th>\n",
       "      <td>0</td>\n",
       "      <td>349909</td>\n",
       "      <td>21075.0000</td>\n",
       "    </tr>\n",
       "    <tr>\n",
       "      <th>8</th>\n",
       "      <td>1</td>\n",
       "      <td>347742</td>\n",
       "      <td>11.1333</td>\n",
       "    </tr>\n",
       "    <tr>\n",
       "      <th>9</th>\n",
       "      <td>1</td>\n",
       "      <td>237736</td>\n",
       "      <td>30.0708</td>\n",
       "    </tr>\n",
       "  </tbody>\n",
       "</table>\n",
       "</div>"
      ],
      "text/plain": [
       "   Survived            Ticket        Fare\n",
       "0         0         A/5 21171      7.2500\n",
       "1         1          PC 17599     71.2833\n",
       "2         1  STON/O2. 3101282   7925.0000\n",
       "3         1            113803     53.1000\n",
       "4         0            373450      8.0500\n",
       "5         0            330877      8.4583\n",
       "6         0             17463     51.8625\n",
       "7         0            349909  21075.0000\n",
       "8         1            347742     11.1333\n",
       "9         1            237736     30.0708"
      ]
     },
     "execution_count": 23,
     "metadata": {},
     "output_type": "execute_result"
    }
   ],
   "source": [
    "data[['Survived', 'Ticket', 'Fare']].head(10)"
   ]
  },
  {
   "cell_type": "markdown",
   "metadata": {},
   "source": [
    "Rows 3, 7, 8 and 9 have been divided. If done correctly, the ticket frequency of ticket # 349909 (row 7) should be 4:"
   ]
  },
  {
   "cell_type": "code",
   "execution_count": 24,
   "metadata": {},
   "outputs": [
    {
     "data": {
      "text/plain": [
       "4"
      ]
     },
     "execution_count": 24,
     "metadata": {},
     "output_type": "execute_result"
    }
   ],
   "source": [
    "ticket_freq['349909']"
   ]
  },
  {
   "cell_type": "markdown",
   "metadata": {},
   "source": [
    "Having verified the new divided fare column, we can insert it into the dataset:"
   ]
  },
  {
   "cell_type": "code",
   "execution_count": 25,
   "metadata": {
    "scrolled": true
   },
   "outputs": [
    {
     "data": {
      "text/html": [
       "<div>\n",
       "<style scoped>\n",
       "    .dataframe tbody tr th:only-of-type {\n",
       "        vertical-align: middle;\n",
       "    }\n",
       "\n",
       "    .dataframe tbody tr th {\n",
       "        vertical-align: top;\n",
       "    }\n",
       "\n",
       "    .dataframe thead th {\n",
       "        text-align: right;\n",
       "    }\n",
       "</style>\n",
       "<table border=\"1\" class=\"dataframe\">\n",
       "  <thead>\n",
       "    <tr style=\"text-align: right;\">\n",
       "      <th></th>\n",
       "      <th>Survived</th>\n",
       "      <th>Ticket</th>\n",
       "      <th>PsgFare</th>\n",
       "    </tr>\n",
       "  </thead>\n",
       "  <tbody>\n",
       "    <tr>\n",
       "      <th>0</th>\n",
       "      <td>0</td>\n",
       "      <td>A/5 21171</td>\n",
       "      <td>7.25000</td>\n",
       "    </tr>\n",
       "    <tr>\n",
       "      <th>1</th>\n",
       "      <td>1</td>\n",
       "      <td>PC 17599</td>\n",
       "      <td>71.28330</td>\n",
       "    </tr>\n",
       "    <tr>\n",
       "      <th>2</th>\n",
       "      <td>1</td>\n",
       "      <td>STON/O2. 3101282</td>\n",
       "      <td>7925.00000</td>\n",
       "    </tr>\n",
       "    <tr>\n",
       "      <th>3</th>\n",
       "      <td>1</td>\n",
       "      <td>113803</td>\n",
       "      <td>26.55000</td>\n",
       "    </tr>\n",
       "    <tr>\n",
       "      <th>4</th>\n",
       "      <td>0</td>\n",
       "      <td>373450</td>\n",
       "      <td>8.05000</td>\n",
       "    </tr>\n",
       "    <tr>\n",
       "      <th>5</th>\n",
       "      <td>0</td>\n",
       "      <td>330877</td>\n",
       "      <td>8.45830</td>\n",
       "    </tr>\n",
       "    <tr>\n",
       "      <th>6</th>\n",
       "      <td>0</td>\n",
       "      <td>17463</td>\n",
       "      <td>51.86250</td>\n",
       "    </tr>\n",
       "    <tr>\n",
       "      <th>7</th>\n",
       "      <td>0</td>\n",
       "      <td>349909</td>\n",
       "      <td>5268.75000</td>\n",
       "    </tr>\n",
       "    <tr>\n",
       "      <th>8</th>\n",
       "      <td>1</td>\n",
       "      <td>347742</td>\n",
       "      <td>5.56665</td>\n",
       "    </tr>\n",
       "    <tr>\n",
       "      <th>9</th>\n",
       "      <td>1</td>\n",
       "      <td>237736</td>\n",
       "      <td>15.03540</td>\n",
       "    </tr>\n",
       "  </tbody>\n",
       "</table>\n",
       "</div>"
      ],
      "text/plain": [
       "   Survived            Ticket     PsgFare\n",
       "0         0         A/5 21171     7.25000\n",
       "1         1          PC 17599    71.28330\n",
       "2         1  STON/O2. 3101282  7925.00000\n",
       "3         1            113803    26.55000\n",
       "4         0            373450     8.05000\n",
       "5         0            330877     8.45830\n",
       "6         0             17463    51.86250\n",
       "7         0            349909  5268.75000\n",
       "8         1            347742     5.56665\n",
       "9         1            237736    15.03540"
      ]
     },
     "execution_count": 25,
     "metadata": {},
     "output_type": "execute_result"
    }
   ],
   "source": [
    "data['PsgFare'] = divided_fares\n",
    "data[['Survived', 'Ticket', 'PsgFare']].head(10)"
   ]
  },
  {
   "cell_type": "markdown",
   "metadata": {},
   "source": [
    "Finally, lets test the updated *Fare* column against *Survived*:"
   ]
  },
  {
   "cell_type": "code",
   "execution_count": 26,
   "metadata": {},
   "outputs": [],
   "source": [
    "survivors_by_fare = data[data['Survived'] == 1]['PsgFare'].value_counts()\n",
    "all_by_fare = data['PsgFare'].value_counts()\n",
    "survived_pct_by_fare = survivors_by_fare.copy()"
   ]
  },
  {
   "cell_type": "code",
   "execution_count": 27,
   "metadata": {},
   "outputs": [],
   "source": [
    "for key in survivors_by_fare.keys():\n",
    "    survived_pct_by_fare[key] = 100 * survivors_by_fare[key] / all_by_fare[key]\n",
    "\n",
    "# survived_pct_by_fare"
   ]
  },
  {
   "cell_type": "code",
   "execution_count": 28,
   "metadata": {
    "scrolled": false
   },
   "outputs": [
    {
     "data": {
      "image/png": "[encoded data removed]",
      "text/plain": [
       "<Figure size 432x288 with 1 Axes>"
      ]
     },
     "metadata": {},
     "output_type": "display_data"
    }
   ],
   "source": [
    "plt.scatter(survived_pct_by_fare.index, survived_pct_by_fare, color='red', s=20)\n",
    "plt.xlabel('PsgFare')\n",
    "plt.ylabel('Survived pct')\n",
    "\n",
    "plt.show()"
   ]
  },
  {
   "cell_type": "markdown",
   "metadata": {},
   "source": [
    "Even though the fare column is now divided by number of ticket holders, the values are still spread out unevenly with most close to zero, but at least there is a visible trend: Higher fares means higher chance of survival.\n",
    "\n",
    "To be sure that the trend holds, we can zoom in on the lower part of the fare axis:"
   ]
  },
  {
   "cell_type": "code",
   "execution_count": 29,
   "metadata": {},
   "outputs": [
    {
     "data": {
      "image/png": "[encoded data removed]",
      "text/plain": [
       "<Figure size 432x288 with 1 Axes>"
      ]
     },
     "metadata": {},
     "output_type": "display_data"
    }
   ],
   "source": [
    "plt.scatter(survived_pct_by_fare.index, survived_pct_by_fare, color='red', s=20)\n",
    "plt.xlabel('PsgFare')\n",
    "plt.ylabel('Survived pct')\n",
    "plt.gca().set_xlim(0,200)\n",
    "\n",
    "plt.show()"
   ]
  },
  {
   "cell_type": "markdown",
   "metadata": {},
   "source": [
    "#### Cabin"
   ]
  },
  {
   "cell_type": "markdown",
   "metadata": {},
   "source": [
    "The cabin column is arguably one of the most interesting, but also most difficult to handle. It likely holds information, but most rows are null while others contain several values.\n",
    "\n",
    "So what information does a cabin number hold? A quick internet search reveals that the letters stand for decks (see https://www.encyclopedia-titanica.org/titanic-deckplans/profile.html).\n",
    "\n",
    "This is very likely to have an impact on survival, so let's try to test that. First, we need to extract only the first letter of each row:"
   ]
  },
  {
   "cell_type": "code",
   "execution_count": 30,
   "metadata": {},
   "outputs": [
    {
     "data": {
      "text/plain": [
       "0    NaN\n",
       "1      C\n",
       "2    NaN\n",
       "3      C\n",
       "4    NaN\n",
       "5    NaN\n",
       "6      E\n",
       "7    NaN\n",
       "8    NaN\n",
       "9    NaN\n",
       "Name: Cabin, dtype: object"
      ]
     },
     "execution_count": 30,
     "metadata": {},
     "output_type": "execute_result"
    }
   ],
   "source": [
    "passenger_deck = data['Cabin'].str[0]\n",
    "passenger_deck.head(10)"
   ]
  },
  {
   "cell_type": "markdown",
   "metadata": {},
   "source": [
    "We can then insert the new Deck column:"
   ]
  },
  {
   "cell_type": "code",
   "execution_count": 31,
   "metadata": {
    "scrolled": true
   },
   "outputs": [
    {
     "data": {
      "text/html": [
       "<div>\n",
       "<style scoped>\n",
       "    .dataframe tbody tr th:only-of-type {\n",
       "        vertical-align: middle;\n",
       "    }\n",
       "\n",
       "    .dataframe tbody tr th {\n",
       "        vertical-align: top;\n",
       "    }\n",
       "\n",
       "    .dataframe thead th {\n",
       "        text-align: right;\n",
       "    }\n",
       "</style>\n",
       "<table border=\"1\" class=\"dataframe\">\n",
       "  <thead>\n",
       "    <tr style=\"text-align: right;\">\n",
       "      <th></th>\n",
       "      <th>PassengerId</th>\n",
       "      <th>Survived</th>\n",
       "      <th>Pclass</th>\n",
       "      <th>Name</th>\n",
       "      <th>Sex</th>\n",
       "      <th>Age</th>\n",
       "      <th>SibSp</th>\n",
       "      <th>Parch</th>\n",
       "      <th>Ticket</th>\n",
       "      <th>Fare</th>\n",
       "      <th>Cabin</th>\n",
       "      <th>Embarked</th>\n",
       "      <th>PsgFare</th>\n",
       "      <th>Deck</th>\n",
       "    </tr>\n",
       "  </thead>\n",
       "  <tbody>\n",
       "    <tr>\n",
       "      <th>0</th>\n",
       "      <td>1</td>\n",
       "      <td>0</td>\n",
       "      <td>3</td>\n",
       "      <td>Braund, Mr. Owen Harris</td>\n",
       "      <td>male</td>\n",
       "      <td>22.0</td>\n",
       "      <td>1</td>\n",
       "      <td>0</td>\n",
       "      <td>A/5 21171</td>\n",
       "      <td>7.2500</td>\n",
       "      <td>NaN</td>\n",
       "      <td>S</td>\n",
       "      <td>7.2500</td>\n",
       "      <td>NaN</td>\n",
       "    </tr>\n",
       "    <tr>\n",
       "      <th>1</th>\n",
       "      <td>2</td>\n",
       "      <td>1</td>\n",
       "      <td>1</td>\n",
       "      <td>Cumings, Mrs. John Bradley (Florence Briggs Th...</td>\n",
       "      <td>female</td>\n",
       "      <td>38.0</td>\n",
       "      <td>1</td>\n",
       "      <td>0</td>\n",
       "      <td>PC 17599</td>\n",
       "      <td>71.2833</td>\n",
       "      <td>C85</td>\n",
       "      <td>C</td>\n",
       "      <td>71.2833</td>\n",
       "      <td>C</td>\n",
       "    </tr>\n",
       "    <tr>\n",
       "      <th>2</th>\n",
       "      <td>3</td>\n",
       "      <td>1</td>\n",
       "      <td>3</td>\n",
       "      <td>Heikkinen, Miss. Laina</td>\n",
       "      <td>female</td>\n",
       "      <td>26.0</td>\n",
       "      <td>0</td>\n",
       "      <td>0</td>\n",
       "      <td>STON/O2. 3101282</td>\n",
       "      <td>7925.0000</td>\n",
       "      <td>NaN</td>\n",
       "      <td>S</td>\n",
       "      <td>7925.0000</td>\n",
       "      <td>NaN</td>\n",
       "    </tr>\n",
       "    <tr>\n",
       "      <th>3</th>\n",
       "      <td>4</td>\n",
       "      <td>1</td>\n",
       "      <td>1</td>\n",
       "      <td>Futrelle, Mrs. Jacques Heath (Lily May Peel)</td>\n",
       "      <td>female</td>\n",
       "      <td>35.0</td>\n",
       "      <td>1</td>\n",
       "      <td>0</td>\n",
       "      <td>113803</td>\n",
       "      <td>53.1000</td>\n",
       "      <td>C123</td>\n",
       "      <td>S</td>\n",
       "      <td>26.5500</td>\n",
       "      <td>C</td>\n",
       "    </tr>\n",
       "    <tr>\n",
       "      <th>4</th>\n",
       "      <td>5</td>\n",
       "      <td>0</td>\n",
       "      <td>3</td>\n",
       "      <td>Allen, Mr. William Henry</td>\n",
       "      <td>male</td>\n",
       "      <td>35.0</td>\n",
       "      <td>0</td>\n",
       "      <td>0</td>\n",
       "      <td>373450</td>\n",
       "      <td>8.0500</td>\n",
       "      <td>NaN</td>\n",
       "      <td>S</td>\n",
       "      <td>8.0500</td>\n",
       "      <td>NaN</td>\n",
       "    </tr>\n",
       "  </tbody>\n",
       "</table>\n",
       "</div>"
      ],
      "text/plain": [
       "   PassengerId  Survived  Pclass  \\\n",
       "0            1         0       3   \n",
       "1            2         1       1   \n",
       "2            3         1       3   \n",
       "3            4         1       1   \n",
       "4            5         0       3   \n",
       "\n",
       "                                                Name     Sex   Age  SibSp  \\\n",
       "0                            Braund, Mr. Owen Harris    male  22.0      1   \n",
       "1  Cumings, Mrs. John Bradley (Florence Briggs Th...  female  38.0      1   \n",
       "2                             Heikkinen, Miss. Laina  female  26.0      0   \n",
       "3       Futrelle, Mrs. Jacques Heath (Lily May Peel)  female  35.0      1   \n",
       "4                           Allen, Mr. William Henry    male  35.0      0   \n",
       "\n",
       "   Parch            Ticket       Fare Cabin Embarked    PsgFare Deck  \n",
       "0      0         A/5 21171     7.2500   NaN        S     7.2500  NaN  \n",
       "1      0          PC 17599    71.2833   C85        C    71.2833    C  \n",
       "2      0  STON/O2. 3101282  7925.0000   NaN        S  7925.0000  NaN  \n",
       "3      0            113803    53.1000  C123        S    26.5500    C  \n",
       "4      0            373450     8.0500   NaN        S     8.0500  NaN  "
      ]
     },
     "execution_count": 31,
     "metadata": {},
     "output_type": "execute_result"
    }
   ],
   "source": [
    "data['Deck'] = passenger_deck\n",
    "data.head()"
   ]
  },
  {
   "cell_type": "markdown",
   "metadata": {},
   "source": [
    "Of course this means that we have discarded the number after the deck, which itself undoubtedly holds valuable information about where on the deck the cabin was. However, for the sake of simplicity, the deck will do here.\n",
    "\n",
    "Next, let's test the correlation with survival:"
   ]
  },
  {
   "cell_type": "code",
   "execution_count": 32,
   "metadata": {},
   "outputs": [],
   "source": [
    "survivors_by_deck = data[data['Survived'] == 1]['Deck'].value_counts()\n",
    "all_by_deck = data['Deck'].value_counts()\n",
    "survived_pct_by_deck = survivors_by_deck.copy()"
   ]
  },
  {
   "cell_type": "code",
   "execution_count": 33,
   "metadata": {},
   "outputs": [
    {
     "data": {
      "text/plain": [
       "A    53\n",
       "B    75\n",
       "C    56\n",
       "D    73\n",
       "E    71\n",
       "F    61\n",
       "G    50\n",
       "Name: Deck, dtype: int64"
      ]
     },
     "execution_count": 33,
     "metadata": {},
     "output_type": "execute_result"
    }
   ],
   "source": [
    "for key in survivors_by_deck.keys():\n",
    "    survived_pct_by_deck[key] = 100 * survivors_by_deck[key] / all_by_deck[key]\n",
    "survived_pct_by_deck.sort_index(inplace=True)\n",
    "\n",
    "survived_pct_by_deck"
   ]
  },
  {
   "cell_type": "code",
   "execution_count": 34,
   "metadata": {
    "scrolled": true
   },
   "outputs": [
    {
     "data": {
      "image/png": "[encoded data removed]",
      "text/plain": [
       "<Figure size 432x288 with 1 Axes>"
      ]
     },
     "metadata": {},
     "output_type": "display_data"
    }
   ],
   "source": [
    "survived_pct_by_deck.plot(kind='bar')\n",
    "plt.xlabel('Deck')\n",
    "plt.ylabel('Survived pct')\n",
    "plt.show()"
   ]
  },
  {
   "cell_type": "markdown",
   "metadata": {},
   "source": [
    "Apart from decks A and C, the numbers look reasonable. The relatively low numbers for A and C could simply be statistical fluctiations due to the relatively low number of cabins."
   ]
  },
  {
   "cell_type": "markdown",
   "metadata": {},
   "source": [
    "#### Embarked\n",
    "Finally, let's look at the *Embarked* column. Does the city each passenger embarked from have any significance?"
   ]
  },
  {
   "cell_type": "code",
   "execution_count": 35,
   "metadata": {},
   "outputs": [],
   "source": [
    "survivors_by_emb = data[data['Survived'] == 1]['Embarked'].value_counts()\n",
    "all_by_emb = data['Embarked'].value_counts()\n",
    "survived_pct_by_emb = survivors_by_emb.copy()"
   ]
  },
  {
   "cell_type": "code",
   "execution_count": 36,
   "metadata": {},
   "outputs": [
    {
     "data": {
      "text/plain": [
       "S    34\n",
       "C    53\n",
       "Q    39\n",
       "Name: Embarked, dtype: int64"
      ]
     },
     "execution_count": 36,
     "metadata": {},
     "output_type": "execute_result"
    }
   ],
   "source": [
    "for key in survivors_by_emb.keys():\n",
    "    survived_pct_by_emb[key] = 100 * survivors_by_emb[key] / all_by_emb[key]\n",
    "\n",
    "survived_pct_by_emb"
   ]
  },
  {
   "cell_type": "code",
   "execution_count": 37,
   "metadata": {},
   "outputs": [
    {
     "data": {
      "image/png": "[encoded data removed]",
      "text/plain": [
       "<Figure size 432x288 with 1 Axes>"
      ]
     },
     "metadata": {},
     "output_type": "display_data"
    }
   ],
   "source": [
    "survived_pct_by_emb.plot(kind='bar')\n",
    "plt.xlabel('Embarked')\n",
    "plt.ylabel('Survived')\n",
    "plt.show()"
   ]
  },
  {
   "cell_type": "markdown",
   "metadata": {},
   "source": [
    "There certainly appears to be some variation in the data here, too. If it is significant or purely coincidental is hard to tell, but it is good enough for now. Embarked is in."
   ]
  },
  {
   "cell_type": "markdown",
   "metadata": {},
   "source": [
    "### B.3 Removing features<a name=\"Part-B3\"></a> <div class=\"pull-right\"><a class=\"anchor-link\" href=\"#top\">&#8679;</a></div>"
   ]
  },
  {
   "cell_type": "markdown",
   "metadata": {},
   "source": [
    "Having considered the value of each feature, we can now safely remove PassengerId, Name, Ticket and Cabin:"
   ]
  },
  {
   "cell_type": "code",
   "execution_count": 38,
   "metadata": {},
   "outputs": [
    {
     "data": {
      "text/html": [
       "<div>\n",
       "<style scoped>\n",
       "    .dataframe tbody tr th:only-of-type {\n",
       "        vertical-align: middle;\n",
       "    }\n",
       "\n",
       "    .dataframe tbody tr th {\n",
       "        vertical-align: top;\n",
       "    }\n",
       "\n",
       "    .dataframe thead th {\n",
       "        text-align: right;\n",
       "    }\n",
       "</style>\n",
       "<table border=\"1\" class=\"dataframe\">\n",
       "  <thead>\n",
       "    <tr style=\"text-align: right;\">\n",
       "      <th></th>\n",
       "      <th>Survived</th>\n",
       "      <th>Pclass</th>\n",
       "      <th>Sex</th>\n",
       "      <th>Age</th>\n",
       "      <th>SibSp</th>\n",
       "      <th>Parch</th>\n",
       "      <th>Embarked</th>\n",
       "      <th>PsgFare</th>\n",
       "      <th>Deck</th>\n",
       "    </tr>\n",
       "  </thead>\n",
       "  <tbody>\n",
       "    <tr>\n",
       "      <th>0</th>\n",
       "      <td>0</td>\n",
       "      <td>3</td>\n",
       "      <td>male</td>\n",
       "      <td>22.0</td>\n",
       "      <td>1</td>\n",
       "      <td>0</td>\n",
       "      <td>S</td>\n",
       "      <td>7.2500</td>\n",
       "      <td>NaN</td>\n",
       "    </tr>\n",
       "    <tr>\n",
       "      <th>1</th>\n",
       "      <td>1</td>\n",
       "      <td>1</td>\n",
       "      <td>female</td>\n",
       "      <td>38.0</td>\n",
       "      <td>1</td>\n",
       "      <td>0</td>\n",
       "      <td>C</td>\n",
       "      <td>71.2833</td>\n",
       "      <td>C</td>\n",
       "    </tr>\n",
       "    <tr>\n",
       "      <th>2</th>\n",
       "      <td>1</td>\n",
       "      <td>3</td>\n",
       "      <td>female</td>\n",
       "      <td>26.0</td>\n",
       "      <td>0</td>\n",
       "      <td>0</td>\n",
       "      <td>S</td>\n",
       "      <td>7925.0000</td>\n",
       "      <td>NaN</td>\n",
       "    </tr>\n",
       "    <tr>\n",
       "      <th>3</th>\n",
       "      <td>1</td>\n",
       "      <td>1</td>\n",
       "      <td>female</td>\n",
       "      <td>35.0</td>\n",
       "      <td>1</td>\n",
       "      <td>0</td>\n",
       "      <td>S</td>\n",
       "      <td>26.5500</td>\n",
       "      <td>C</td>\n",
       "    </tr>\n",
       "    <tr>\n",
       "      <th>4</th>\n",
       "      <td>0</td>\n",
       "      <td>3</td>\n",
       "      <td>male</td>\n",
       "      <td>35.0</td>\n",
       "      <td>0</td>\n",
       "      <td>0</td>\n",
       "      <td>S</td>\n",
       "      <td>8.0500</td>\n",
       "      <td>NaN</td>\n",
       "    </tr>\n",
       "  </tbody>\n",
       "</table>\n",
       "</div>"
      ],
      "text/plain": [
       "   Survived  Pclass     Sex   Age  SibSp  Parch Embarked    PsgFare Deck\n",
       "0         0       3    male  22.0      1      0        S     7.2500  NaN\n",
       "1         1       1  female  38.0      1      0        C    71.2833    C\n",
       "2         1       3  female  26.0      0      0        S  7925.0000  NaN\n",
       "3         1       1  female  35.0      1      0        S    26.5500    C\n",
       "4         0       3    male  35.0      0      0        S     8.0500  NaN"
      ]
     },
     "execution_count": 38,
     "metadata": {},
     "output_type": "execute_result"
    }
   ],
   "source": [
    "data.drop('PassengerId', axis=1, inplace=True)\n",
    "data.drop('Name', axis=1, inplace=True)\n",
    "data.drop('Ticket', axis=1, inplace=True)\n",
    "data.drop('Fare', axis=1, inplace=True)\n",
    "data.drop('Cabin', axis=1, inplace=True)\n",
    "\n",
    "data.head()"
   ]
  },
  {
   "cell_type": "markdown",
   "metadata": {},
   "source": [
    "### B.4 Data conversion<a name=\"Part-B4\"></a> <div class=\"pull-right\"><a class=\"anchor-link\" href=\"#top\">&#8679;</a></div>"
   ]
  },
  {
   "cell_type": "markdown",
   "metadata": {},
   "source": [
    "The data currently has the following data types:"
   ]
  },
  {
   "cell_type": "code",
   "execution_count": 39,
   "metadata": {
    "scrolled": false
   },
   "outputs": [
    {
     "data": {
      "text/plain": [
       "Survived      int64\n",
       "Pclass        int64\n",
       "Sex          object\n",
       "Age         float64\n",
       "SibSp         int64\n",
       "Parch         int64\n",
       "Embarked     object\n",
       "PsgFare     float64\n",
       "Deck         object\n",
       "dtype: object"
      ]
     },
     "execution_count": 39,
     "metadata": {},
     "output_type": "execute_result"
    }
   ],
   "source": [
    "data.dtypes"
   ]
  },
  {
   "cell_type": "markdown",
   "metadata": {},
   "source": [
    "To be able to compare values computationally, non-numerical types will have to be converted:"
   ]
  },
  {
   "cell_type": "code",
   "execution_count": 40,
   "metadata": {
    "scrolled": true
   },
   "outputs": [],
   "source": [
    "data['Sex'] = data['Sex'].replace(['female'], 1.0)\n",
    "data['Sex'] = data['Sex'].replace(['male'], 0.0)"
   ]
  },
  {
   "cell_type": "code",
   "execution_count": 41,
   "metadata": {},
   "outputs": [],
   "source": [
    "data['Embarked'] = data['Embarked'].replace(['S'], 0)\n",
    "data['Embarked'] = data['Embarked'].replace(['C'], 1)\n",
    "data['Embarked'] = data['Embarked'].replace(['Q'], 2)"
   ]
  },
  {
   "cell_type": "code",
   "execution_count": 42,
   "metadata": {},
   "outputs": [],
   "source": [
    "data['Deck'] = data['Deck'].replace(['A'], 1)\n",
    "data['Deck'] = data['Deck'].replace(['B'], 2)\n",
    "data['Deck'] = data['Deck'].replace(['C'], 3)\n",
    "data['Deck'] = data['Deck'].replace(['D'], 4)\n",
    "data['Deck'] = data['Deck'].replace(['E'], 5)\n",
    "data['Deck'] = data['Deck'].replace(['F'], 6)\n",
    "data['Deck'] = data['Deck'].replace(['G'], 7)\n",
    "data['Deck'] = data['Deck'].replace(['T'], 8)"
   ]
  },
  {
   "cell_type": "code",
   "execution_count": 43,
   "metadata": {
    "scrolled": false
   },
   "outputs": [
    {
     "data": {
      "text/plain": [
       "Survived      int64\n",
       "Pclass        int64\n",
       "Sex         float64\n",
       "Age         float64\n",
       "SibSp         int64\n",
       "Parch         int64\n",
       "Embarked    float64\n",
       "PsgFare     float64\n",
       "Deck        float64\n",
       "dtype: object"
      ]
     },
     "execution_count": 43,
     "metadata": {},
     "output_type": "execute_result"
    }
   ],
   "source": [
    "data.dtypes"
   ]
  },
  {
   "cell_type": "code",
   "execution_count": 44,
   "metadata": {
    "scrolled": true
   },
   "outputs": [
    {
     "data": {
      "text/html": [
       "<div>\n",
       "<style scoped>\n",
       "    .dataframe tbody tr th:only-of-type {\n",
       "        vertical-align: middle;\n",
       "    }\n",
       "\n",
       "    .dataframe tbody tr th {\n",
       "        vertical-align: top;\n",
       "    }\n",
       "\n",
       "    .dataframe thead th {\n",
       "        text-align: right;\n",
       "    }\n",
       "</style>\n",
       "<table border=\"1\" class=\"dataframe\">\n",
       "  <thead>\n",
       "    <tr style=\"text-align: right;\">\n",
       "      <th></th>\n",
       "      <th>Survived</th>\n",
       "      <th>Pclass</th>\n",
       "      <th>Sex</th>\n",
       "      <th>Age</th>\n",
       "      <th>SibSp</th>\n",
       "      <th>Parch</th>\n",
       "      <th>Embarked</th>\n",
       "      <th>PsgFare</th>\n",
       "      <th>Deck</th>\n",
       "    </tr>\n",
       "  </thead>\n",
       "  <tbody>\n",
       "    <tr>\n",
       "      <th>0</th>\n",
       "      <td>0</td>\n",
       "      <td>3</td>\n",
       "      <td>0.0</td>\n",
       "      <td>22.0</td>\n",
       "      <td>1</td>\n",
       "      <td>0</td>\n",
       "      <td>0.0</td>\n",
       "      <td>7.2500</td>\n",
       "      <td>NaN</td>\n",
       "    </tr>\n",
       "    <tr>\n",
       "      <th>1</th>\n",
       "      <td>1</td>\n",
       "      <td>1</td>\n",
       "      <td>1.0</td>\n",
       "      <td>38.0</td>\n",
       "      <td>1</td>\n",
       "      <td>0</td>\n",
       "      <td>1.0</td>\n",
       "      <td>71.2833</td>\n",
       "      <td>3.0</td>\n",
       "    </tr>\n",
       "    <tr>\n",
       "      <th>2</th>\n",
       "      <td>1</td>\n",
       "      <td>3</td>\n",
       "      <td>1.0</td>\n",
       "      <td>26.0</td>\n",
       "      <td>0</td>\n",
       "      <td>0</td>\n",
       "      <td>0.0</td>\n",
       "      <td>7925.0000</td>\n",
       "      <td>NaN</td>\n",
       "    </tr>\n",
       "    <tr>\n",
       "      <th>3</th>\n",
       "      <td>1</td>\n",
       "      <td>1</td>\n",
       "      <td>1.0</td>\n",
       "      <td>35.0</td>\n",
       "      <td>1</td>\n",
       "      <td>0</td>\n",
       "      <td>0.0</td>\n",
       "      <td>26.5500</td>\n",
       "      <td>3.0</td>\n",
       "    </tr>\n",
       "    <tr>\n",
       "      <th>4</th>\n",
       "      <td>0</td>\n",
       "      <td>3</td>\n",
       "      <td>0.0</td>\n",
       "      <td>35.0</td>\n",
       "      <td>0</td>\n",
       "      <td>0</td>\n",
       "      <td>0.0</td>\n",
       "      <td>8.0500</td>\n",
       "      <td>NaN</td>\n",
       "    </tr>\n",
       "    <tr>\n",
       "      <th>5</th>\n",
       "      <td>0</td>\n",
       "      <td>3</td>\n",
       "      <td>0.0</td>\n",
       "      <td>NaN</td>\n",
       "      <td>0</td>\n",
       "      <td>0</td>\n",
       "      <td>2.0</td>\n",
       "      <td>8.4583</td>\n",
       "      <td>NaN</td>\n",
       "    </tr>\n",
       "  </tbody>\n",
       "</table>\n",
       "</div>"
      ],
      "text/plain": [
       "   Survived  Pclass  Sex   Age  SibSp  Parch  Embarked    PsgFare  Deck\n",
       "0         0       3  0.0  22.0      1      0       0.0     7.2500   NaN\n",
       "1         1       1  1.0  38.0      1      0       1.0    71.2833   3.0\n",
       "2         1       3  1.0  26.0      0      0       0.0  7925.0000   NaN\n",
       "3         1       1  1.0  35.0      1      0       0.0    26.5500   3.0\n",
       "4         0       3  0.0  35.0      0      0       0.0     8.0500   NaN\n",
       "5         0       3  0.0   NaN      0      0       2.0     8.4583   NaN"
      ]
     },
     "execution_count": 44,
     "metadata": {},
     "output_type": "execute_result"
    }
   ],
   "source": [
    "data.head(6)"
   ]
  },
  {
   "cell_type": "markdown",
   "metadata": {},
   "source": [
    "### B.5 Missing data<a name=\"Part-B5\"></a> <div class=\"pull-right\"><a class=\"anchor-link\" href=\"#top\">&#8679;</a></div>"
   ]
  },
  {
   "cell_type": "markdown",
   "metadata": {},
   "source": [
    "As noted before, some columns contain null values. This will have to be dealt with one way or the other.\n",
    "\n",
    "There are at least four ways to handle this:\n",
    "1. Exclude rows with null values. This would mean loss of valuable data and is therefore not ideal.\n",
    "2. Fill missing values with some unique constant to represent a missing value. This can be useful if the rows with missing values actually represent their own class.\n",
    "3. Fill missing values with the mean of the rest. While certainly better, this will inevitably cause some distortion in the model and is therefore not optimal either.\n",
    "4. Turn the tables and start by training a model to predict the null-containing column based on the other columns. This can then be used to fill the missing values before proceeding to build the survival model.\n",
    "\n",
    "First, let's see which columns contain null values:"
   ]
  },
  {
   "cell_type": "code",
   "execution_count": 45,
   "metadata": {
    "scrolled": true
   },
   "outputs": [
    {
     "data": {
      "text/plain": [
       "Survived    False\n",
       "Pclass      False\n",
       "Sex         False\n",
       "Age          True\n",
       "SibSp       False\n",
       "Parch       False\n",
       "Embarked     True\n",
       "PsgFare     False\n",
       "Deck         True\n",
       "dtype: bool"
      ]
     },
     "execution_count": 45,
     "metadata": {},
     "output_type": "execute_result"
    }
   ],
   "source": [
    "data.isna().any()"
   ]
  },
  {
   "cell_type": "markdown",
   "metadata": {},
   "source": [
    "#### Age\n",
    "While approach #4 would likely be better, I settle for approach #3 here due to time constraints and just fill in with the mean:"
   ]
  },
  {
   "cell_type": "code",
   "execution_count": 46,
   "metadata": {},
   "outputs": [],
   "source": [
    "avg_age = data['Age'].mean()\n",
    "data['Age'].fillna(avg_age, inplace=True)"
   ]
  },
  {
   "cell_type": "markdown",
   "metadata": {},
   "source": [
    "#### Embarked\n",
    "It is a bit surprising that Embarked contains null values, so let's see which they are:"
   ]
  },
  {
   "cell_type": "code",
   "execution_count": 47,
   "metadata": {},
   "outputs": [
    {
     "data": {
      "text/html": [
       "<div>\n",
       "<style scoped>\n",
       "    .dataframe tbody tr th:only-of-type {\n",
       "        vertical-align: middle;\n",
       "    }\n",
       "\n",
       "    .dataframe tbody tr th {\n",
       "        vertical-align: top;\n",
       "    }\n",
       "\n",
       "    .dataframe thead th {\n",
       "        text-align: right;\n",
       "    }\n",
       "</style>\n",
       "<table border=\"1\" class=\"dataframe\">\n",
       "  <thead>\n",
       "    <tr style=\"text-align: right;\">\n",
       "      <th></th>\n",
       "      <th>Survived</th>\n",
       "      <th>Pclass</th>\n",
       "      <th>Sex</th>\n",
       "      <th>Age</th>\n",
       "      <th>SibSp</th>\n",
       "      <th>Parch</th>\n",
       "      <th>Embarked</th>\n",
       "      <th>PsgFare</th>\n",
       "      <th>Deck</th>\n",
       "    </tr>\n",
       "  </thead>\n",
       "  <tbody>\n",
       "    <tr>\n",
       "      <th>61</th>\n",
       "      <td>1</td>\n",
       "      <td>1</td>\n",
       "      <td>1.0</td>\n",
       "      <td>38.0</td>\n",
       "      <td>0</td>\n",
       "      <td>0</td>\n",
       "      <td>NaN</td>\n",
       "      <td>80.0</td>\n",
       "      <td>2.0</td>\n",
       "    </tr>\n",
       "  </tbody>\n",
       "</table>\n",
       "</div>"
      ],
      "text/plain": [
       "    Survived  Pclass  Sex   Age  SibSp  Parch  Embarked  PsgFare  Deck\n",
       "61         1       1  1.0  38.0      0      0       NaN     80.0   2.0"
      ]
     },
     "execution_count": 47,
     "metadata": {},
     "output_type": "execute_result"
    }
   ],
   "source": [
    "data[data['Embarked'].isnull()]"
   ]
  },
  {
   "cell_type": "markdown",
   "metadata": {},
   "source": [
    "With only one row, the chosen approach will probably not make any difference. For simplicity, I just add a new phantom port:"
   ]
  },
  {
   "cell_type": "code",
   "execution_count": 48,
   "metadata": {},
   "outputs": [],
   "source": [
    "data['Embarked'].fillna(3, inplace=True)"
   ]
  },
  {
   "cell_type": "markdown",
   "metadata": {},
   "source": [
    "#### Deck\n",
    "As we know, the deck column has a lot of empty rows indicating that the passenger did not order a cabin. Because this is a unique class of passenger, it makes sense to apply approach #2 and replace with a new unique class value:"
   ]
  },
  {
   "cell_type": "code",
   "execution_count": 49,
   "metadata": {},
   "outputs": [],
   "source": [
    "data['Deck'].fillna(0, inplace=True)"
   ]
  },
  {
   "cell_type": "markdown",
   "metadata": {},
   "source": [
    "Let's verify that all null values are gone and have a look at the data again:"
   ]
  },
  {
   "cell_type": "code",
   "execution_count": 50,
   "metadata": {},
   "outputs": [
    {
     "data": {
      "text/plain": [
       "Survived    False\n",
       "Pclass      False\n",
       "Sex         False\n",
       "Age         False\n",
       "SibSp       False\n",
       "Parch       False\n",
       "Embarked    False\n",
       "PsgFare     False\n",
       "Deck        False\n",
       "dtype: bool"
      ]
     },
     "execution_count": 50,
     "metadata": {},
     "output_type": "execute_result"
    }
   ],
   "source": [
    "data.isna().any()"
   ]
  },
  {
   "cell_type": "code",
   "execution_count": 51,
   "metadata": {
    "scrolled": true
   },
   "outputs": [
    {
     "data": {
      "text/html": [
       "<div>\n",
       "<style scoped>\n",
       "    .dataframe tbody tr th:only-of-type {\n",
       "        vertical-align: middle;\n",
       "    }\n",
       "\n",
       "    .dataframe tbody tr th {\n",
       "        vertical-align: top;\n",
       "    }\n",
       "\n",
       "    .dataframe thead th {\n",
       "        text-align: right;\n",
       "    }\n",
       "</style>\n",
       "<table border=\"1\" class=\"dataframe\">\n",
       "  <thead>\n",
       "    <tr style=\"text-align: right;\">\n",
       "      <th></th>\n",
       "      <th>Survived</th>\n",
       "      <th>Pclass</th>\n",
       "      <th>Sex</th>\n",
       "      <th>Age</th>\n",
       "      <th>SibSp</th>\n",
       "      <th>Parch</th>\n",
       "      <th>Embarked</th>\n",
       "      <th>PsgFare</th>\n",
       "      <th>Deck</th>\n",
       "    </tr>\n",
       "  </thead>\n",
       "  <tbody>\n",
       "    <tr>\n",
       "      <th>0</th>\n",
       "      <td>0</td>\n",
       "      <td>3</td>\n",
       "      <td>0.0</td>\n",
       "      <td>22.000000</td>\n",
       "      <td>1</td>\n",
       "      <td>0</td>\n",
       "      <td>0.0</td>\n",
       "      <td>7.2500</td>\n",
       "      <td>0.0</td>\n",
       "    </tr>\n",
       "    <tr>\n",
       "      <th>1</th>\n",
       "      <td>1</td>\n",
       "      <td>1</td>\n",
       "      <td>1.0</td>\n",
       "      <td>38.000000</td>\n",
       "      <td>1</td>\n",
       "      <td>0</td>\n",
       "      <td>1.0</td>\n",
       "      <td>71.2833</td>\n",
       "      <td>3.0</td>\n",
       "    </tr>\n",
       "    <tr>\n",
       "      <th>2</th>\n",
       "      <td>1</td>\n",
       "      <td>3</td>\n",
       "      <td>1.0</td>\n",
       "      <td>26.000000</td>\n",
       "      <td>0</td>\n",
       "      <td>0</td>\n",
       "      <td>0.0</td>\n",
       "      <td>7925.0000</td>\n",
       "      <td>0.0</td>\n",
       "    </tr>\n",
       "    <tr>\n",
       "      <th>3</th>\n",
       "      <td>1</td>\n",
       "      <td>1</td>\n",
       "      <td>1.0</td>\n",
       "      <td>35.000000</td>\n",
       "      <td>1</td>\n",
       "      <td>0</td>\n",
       "      <td>0.0</td>\n",
       "      <td>26.5500</td>\n",
       "      <td>3.0</td>\n",
       "    </tr>\n",
       "    <tr>\n",
       "      <th>4</th>\n",
       "      <td>0</td>\n",
       "      <td>3</td>\n",
       "      <td>0.0</td>\n",
       "      <td>35.000000</td>\n",
       "      <td>0</td>\n",
       "      <td>0</td>\n",
       "      <td>0.0</td>\n",
       "      <td>8.0500</td>\n",
       "      <td>0.0</td>\n",
       "    </tr>\n",
       "    <tr>\n",
       "      <th>5</th>\n",
       "      <td>0</td>\n",
       "      <td>3</td>\n",
       "      <td>0.0</td>\n",
       "      <td>29.871146</td>\n",
       "      <td>0</td>\n",
       "      <td>0</td>\n",
       "      <td>2.0</td>\n",
       "      <td>8.4583</td>\n",
       "      <td>0.0</td>\n",
       "    </tr>\n",
       "  </tbody>\n",
       "</table>\n",
       "</div>"
      ],
      "text/plain": [
       "   Survived  Pclass  Sex        Age  SibSp  Parch  Embarked    PsgFare  Deck\n",
       "0         0       3  0.0  22.000000      1      0       0.0     7.2500   0.0\n",
       "1         1       1  1.0  38.000000      1      0       1.0    71.2833   3.0\n",
       "2         1       3  1.0  26.000000      0      0       0.0  7925.0000   0.0\n",
       "3         1       1  1.0  35.000000      1      0       0.0    26.5500   3.0\n",
       "4         0       3  0.0  35.000000      0      0       0.0     8.0500   0.0\n",
       "5         0       3  0.0  29.871146      0      0       2.0     8.4583   0.0"
      ]
     },
     "execution_count": 51,
     "metadata": {},
     "output_type": "execute_result"
    }
   ],
   "source": [
    "data.head(6)"
   ]
  },
  {
   "cell_type": "markdown",
   "metadata": {},
   "source": [
    "Excellent! We are now ready to split up the data and start using it."
   ]
  },
  {
   "cell_type": "markdown",
   "metadata": {},
   "source": [
    "### B.6 Splitting up the data<a name=\"Part-B6\"></a> <div class=\"pull-right\"><a class=\"anchor-link\" href=\"#top\">&#8679;</a></div>\n",
    "First, let's seperate the labelled y-column from the x-columns:"
   ]
  },
  {
   "cell_type": "code",
   "execution_count": 52,
   "metadata": {
    "scrolled": true
   },
   "outputs": [],
   "source": [
    "yvalues = pd.DataFrame(data[\"Survived\"].copy())\n",
    "data.drop('Survived', axis=1, inplace=True)"
   ]
  },
  {
   "cell_type": "code",
   "execution_count": 53,
   "metadata": {},
   "outputs": [
    {
     "data": {
      "text/html": [
       "<div>\n",
       "<style scoped>\n",
       "    .dataframe tbody tr th:only-of-type {\n",
       "        vertical-align: middle;\n",
       "    }\n",
       "\n",
       "    .dataframe tbody tr th {\n",
       "        vertical-align: top;\n",
       "    }\n",
       "\n",
       "    .dataframe thead th {\n",
       "        text-align: right;\n",
       "    }\n",
       "</style>\n",
       "<table border=\"1\" class=\"dataframe\">\n",
       "  <thead>\n",
       "    <tr style=\"text-align: right;\">\n",
       "      <th></th>\n",
       "      <th>Pclass</th>\n",
       "      <th>Sex</th>\n",
       "      <th>Age</th>\n",
       "      <th>SibSp</th>\n",
       "      <th>Parch</th>\n",
       "      <th>Embarked</th>\n",
       "      <th>PsgFare</th>\n",
       "      <th>Deck</th>\n",
       "    </tr>\n",
       "  </thead>\n",
       "  <tbody>\n",
       "    <tr>\n",
       "      <th>0</th>\n",
       "      <td>3</td>\n",
       "      <td>0.0</td>\n",
       "      <td>22.0</td>\n",
       "      <td>1</td>\n",
       "      <td>0</td>\n",
       "      <td>0.0</td>\n",
       "      <td>7.2500</td>\n",
       "      <td>0.0</td>\n",
       "    </tr>\n",
       "    <tr>\n",
       "      <th>1</th>\n",
       "      <td>1</td>\n",
       "      <td>1.0</td>\n",
       "      <td>38.0</td>\n",
       "      <td>1</td>\n",
       "      <td>0</td>\n",
       "      <td>1.0</td>\n",
       "      <td>71.2833</td>\n",
       "      <td>3.0</td>\n",
       "    </tr>\n",
       "    <tr>\n",
       "      <th>2</th>\n",
       "      <td>3</td>\n",
       "      <td>1.0</td>\n",
       "      <td>26.0</td>\n",
       "      <td>0</td>\n",
       "      <td>0</td>\n",
       "      <td>0.0</td>\n",
       "      <td>7925.0000</td>\n",
       "      <td>0.0</td>\n",
       "    </tr>\n",
       "    <tr>\n",
       "      <th>3</th>\n",
       "      <td>1</td>\n",
       "      <td>1.0</td>\n",
       "      <td>35.0</td>\n",
       "      <td>1</td>\n",
       "      <td>0</td>\n",
       "      <td>0.0</td>\n",
       "      <td>26.5500</td>\n",
       "      <td>3.0</td>\n",
       "    </tr>\n",
       "    <tr>\n",
       "      <th>4</th>\n",
       "      <td>3</td>\n",
       "      <td>0.0</td>\n",
       "      <td>35.0</td>\n",
       "      <td>0</td>\n",
       "      <td>0</td>\n",
       "      <td>0.0</td>\n",
       "      <td>8.0500</td>\n",
       "      <td>0.0</td>\n",
       "    </tr>\n",
       "  </tbody>\n",
       "</table>\n",
       "</div>"
      ],
      "text/plain": [
       "   Pclass  Sex   Age  SibSp  Parch  Embarked    PsgFare  Deck\n",
       "0       3  0.0  22.0      1      0       0.0     7.2500   0.0\n",
       "1       1  1.0  38.0      1      0       1.0    71.2833   3.0\n",
       "2       3  1.0  26.0      0      0       0.0  7925.0000   0.0\n",
       "3       1  1.0  35.0      1      0       0.0    26.5500   3.0\n",
       "4       3  0.0  35.0      0      0       0.0     8.0500   0.0"
      ]
     },
     "execution_count": 53,
     "metadata": {},
     "output_type": "execute_result"
    }
   ],
   "source": [
    "data.head()"
   ]
  },
  {
   "cell_type": "code",
   "execution_count": 54,
   "metadata": {},
   "outputs": [
    {
     "data": {
      "text/html": [
       "<div>\n",
       "<style scoped>\n",
       "    .dataframe tbody tr th:only-of-type {\n",
       "        vertical-align: middle;\n",
       "    }\n",
       "\n",
       "    .dataframe tbody tr th {\n",
       "        vertical-align: top;\n",
       "    }\n",
       "\n",
       "    .dataframe thead th {\n",
       "        text-align: right;\n",
       "    }\n",
       "</style>\n",
       "<table border=\"1\" class=\"dataframe\">\n",
       "  <thead>\n",
       "    <tr style=\"text-align: right;\">\n",
       "      <th></th>\n",
       "      <th>Survived</th>\n",
       "    </tr>\n",
       "  </thead>\n",
       "  <tbody>\n",
       "    <tr>\n",
       "      <th>0</th>\n",
       "      <td>0</td>\n",
       "    </tr>\n",
       "    <tr>\n",
       "      <th>1</th>\n",
       "      <td>1</td>\n",
       "    </tr>\n",
       "    <tr>\n",
       "      <th>2</th>\n",
       "      <td>1</td>\n",
       "    </tr>\n",
       "    <tr>\n",
       "      <th>3</th>\n",
       "      <td>1</td>\n",
       "    </tr>\n",
       "    <tr>\n",
       "      <th>4</th>\n",
       "      <td>0</td>\n",
       "    </tr>\n",
       "  </tbody>\n",
       "</table>\n",
       "</div>"
      ],
      "text/plain": [
       "   Survived\n",
       "0         0\n",
       "1         1\n",
       "2         1\n",
       "3         1\n",
       "4         0"
      ]
     },
     "execution_count": 54,
     "metadata": {},
     "output_type": "execute_result"
    }
   ],
   "source": [
    "yvalues.head()"
   ]
  },
  {
   "cell_type": "markdown",
   "metadata": {},
   "source": [
    "Next, both the x and y sets must be split into training and test sets.\n",
    "\n",
    "The recommendations for the split ratio varies depending on the size of the data and how ressource-demanding the model is. A common rule of thumb is to use the <a href=\"https://en.wikipedia.org/wiki/Pareto_principle\">80/20 rule</a> with 80% for the training set and 20% for the test set.\n",
    "\n",
    "As both the training and the test sets need to have a certain size in order to be sufficiently statistically representative, a smaller dataset means that we have to split the data more evenly, while a test set of as low as 1 percent might be enough if the dataset contains a million rows (see <a href=\"#Ng\">Ng</a>).\n",
    "\n",
    "In this case the dataset is relatively small, and I have therefore decided to go a bit below the 80/20 rule and split it by a 75/25 ratio, yielding a training set containing 600 rows and a test set containing 200:"
   ]
  },
  {
   "cell_type": "code",
   "execution_count": 55,
   "metadata": {},
   "outputs": [],
   "source": [
    "from sklearn.model_selection import train_test_split\n",
    "\n",
    "X_train, X_test, y_train, y_test = train_test_split(data, yvalues, test_size=0.25, random_state=42)"
   ]
  },
  {
   "cell_type": "code",
   "execution_count": 56,
   "metadata": {
    "scrolled": true
   },
   "outputs": [
    {
     "name": "stdout",
     "output_type": "stream",
     "text": [
      "(600, 8) (200, 8) (600, 1) (200, 1)\n"
     ]
    }
   ],
   "source": [
    "print (X_train.shape, X_test.shape, y_train.shape, y_test.shape)"
   ]
  },
  {
   "cell_type": "markdown",
   "metadata": {},
   "source": [
    "### B.7 Feature scaling<a name=\"Part-B7\"></a> <div class=\"pull-right\"><a class=\"anchor-link\" href=\"#top\">&#8679;</a></div>\n",
    "There are two fundamental types of feature scaling: *Normalization* and *standardization*. With normalization, the values are scaled to a common scale, which is what we want for a neural network, where input values between 0 and 1 are often expected (<a href=\"#Geron17\">Geron17</a>).\n",
    "\n",
    "Note: It is only necessary to scale the input values (the output values are already 0 or 1):"
   ]
  },
  {
   "cell_type": "code",
   "execution_count": 57,
   "metadata": {},
   "outputs": [],
   "source": [
    "from sklearn import preprocessing\n",
    "\n",
    "scaler = preprocessing.MinMaxScaler()\n",
    "X_train = scaler.fit_transform(X_train)\n",
    "X_test = scaler.fit_transform(X_test)"
   ]
  },
  {
   "cell_type": "code",
   "execution_count": 58,
   "metadata": {
    "scrolled": true
   },
   "outputs": [
    {
     "data": {
      "text/plain": [
       "array([[0.00000000e+00, 1.00000000e+00, 3.19299130e-01, 0.00000000e+00,\n",
       "        0.00000000e+00, 0.00000000e+00, 3.00524059e-04, 0.00000000e+00],\n",
       "       [1.00000000e+00, 0.00000000e+00, 3.68097138e-01, 0.00000000e+00,\n",
       "        0.00000000e+00, 0.00000000e+00, 6.60314435e-05, 0.00000000e+00],\n",
       "       [1.00000000e+00, 0.00000000e+00, 3.19299130e-01, 2.50000000e-01,\n",
       "        0.00000000e+00, 0.00000000e+00, 6.60314435e-05, 0.00000000e+00],\n",
       "       [1.00000000e+00, 0.00000000e+00, 3.68097138e-01, 0.00000000e+00,\n",
       "        0.00000000e+00, 6.66666667e-01, 6.13625536e-05, 0.00000000e+00],\n",
       "       [1.00000000e+00, 0.00000000e+00, 2.43665700e-01, 0.00000000e+00,\n",
       "        0.00000000e+00, 0.00000000e+00, 5.37398761e-05, 0.00000000e+00]])"
      ]
     },
     "execution_count": 58,
     "metadata": {},
     "output_type": "execute_result"
    }
   ],
   "source": [
    "X_train[:5]"
   ]
  },
  {
   "cell_type": "markdown",
   "metadata": {},
   "source": [
    "## C. Choosing a model and training it<a name=\"Part-C\"></a> <div class=\"pull-right\"><a class=\"anchor-link\" href=\"#top\">&#8679;</a></div>"
   ]
  },
  {
   "cell_type": "markdown",
   "metadata": {},
   "source": [
    "I have decided on a neural network because the data contains a number of fairly complex features, the relationship between which are not entirely clear, and also because of it's relatively good performance in exercise 1. There, the SVM won out in the end, but that was an artificially created dataset with two clearly seperated moons. This is real data, and even though the output is binary, the input is messy.\n",
    "\n",
    "To get started, I arbitrarily choose a configuration with two layers containing eight neurons each:"
   ]
  },
  {
   "cell_type": "code",
   "execution_count": 59,
   "metadata": {},
   "outputs": [
    {
     "data": {
      "text/plain": [
       "MLPClassifier(activation='relu', alpha=0.0001, batch_size='auto', beta_1=0.9,\n",
       "       beta_2=0.999, early_stopping=False, epsilon=1e-08,\n",
       "       hidden_layer_sizes=(8, 8), learning_rate='constant',\n",
       "       learning_rate_init=0.001, max_iter=1000, momentum=0.9,\n",
       "       nesterovs_momentum=True, power_t=0.5, random_state=0, shuffle=True,\n",
       "       solver='adam', tol=0.0001, validation_fraction=0.1, verbose=False,\n",
       "       warm_start=False)"
      ]
     },
     "execution_count": 59,
     "metadata": {},
     "output_type": "execute_result"
    }
   ],
   "source": [
    "mlp = MLPClassifier(hidden_layer_sizes=(8,8), max_iter=1000, random_state=0)\n",
    "mlp.fit(X_train, y_train.values.ravel())"
   ]
  },
  {
   "cell_type": "markdown",
   "metadata": {},
   "source": [
    "## D. Evaluating performance on the test set<a name=\"Part-D\"></a> <div class=\"pull-right\"><a class=\"anchor-link\" href=\"#top\">&#8679;</a></div>"
   ]
  },
  {
   "cell_type": "markdown",
   "metadata": {},
   "source": [
    "To test the trained model, we must first generate predictions on the test set:"
   ]
  },
  {
   "cell_type": "code",
   "execution_count": 60,
   "metadata": {},
   "outputs": [],
   "source": [
    "predictions = mlp.predict(X_test)"
   ]
  },
  {
   "cell_type": "markdown",
   "metadata": {},
   "source": [
    "#### Confusion matrix\n",
    "We can then evaluate those against the true output values that we set aside earlier and generate a confusion matrix:"
   ]
  },
  {
   "cell_type": "code",
   "execution_count": 61,
   "metadata": {},
   "outputs": [
    {
     "name": "stdout",
     "output_type": "stream",
     "text": [
      "[[117   6]\n",
      " [ 23  54]]\n"
     ]
    }
   ],
   "source": [
    "conf_matrix = confusion_matrix(y_test, predictions)\n",
    "print(conf_matrix)"
   ]
  },
  {
   "cell_type": "markdown",
   "metadata": {},
   "source": [
    "Wow, that looks really good! 117 + 54 = 171 correct out of 200 in the first try!\n",
    "\n",
    "But what is the model then better at predicting - negative or positive values?"
   ]
  },
  {
   "cell_type": "code",
   "execution_count": 62,
   "metadata": {},
   "outputs": [
    {
     "data": {
      "text/plain": [
       "(90.0, 83.57142857142857)"
      ]
     },
     "execution_count": 62,
     "metadata": {},
     "output_type": "execute_result"
    }
   ],
   "source": [
    "tn, fp, fn, tp = conf_matrix.ravel()\n",
    "pos_score =  100 * tp / (tp + fp)\n",
    "neg_score = 100 * tn / (tn + fn)\n",
    "pos_score, neg_score"
   ]
  },
  {
   "cell_type": "markdown",
   "metadata": {},
   "source": [
    "The positive predictions are slightly better, but with so few samples, the results are of course far from statistically significant."
   ]
  },
  {
   "cell_type": "markdown",
   "metadata": {},
   "source": [
    "#### Accuracy\n",
    "The confusion matrix is useful but can be a little hard to decipher. To convert the numbers into a single accuracy score, we can define a small function:"
   ]
  },
  {
   "cell_type": "code",
   "execution_count": 63,
   "metadata": {},
   "outputs": [],
   "source": [
    "def accuracy(conf_matrix):\n",
    "    tn, fp, fn, tp = conf_matrix.ravel()\n",
    "    total = tn + tp + fp + fn\n",
    "    correct = tn + tp\n",
    "    \n",
    "    return 100 * correct / total"
   ]
  },
  {
   "cell_type": "code",
   "execution_count": 64,
   "metadata": {},
   "outputs": [
    {
     "data": {
      "text/plain": [
       "85.5"
      ]
     },
     "execution_count": 64,
     "metadata": {},
     "output_type": "execute_result"
    }
   ],
   "source": [
    "accuracy(conf_matrix)"
   ]
  },
  {
   "cell_type": "markdown",
   "metadata": {},
   "source": [
    "#### Precision and recall\n",
    "\n",
    "Let's also have a look at the classification report:"
   ]
  },
  {
   "cell_type": "code",
   "execution_count": 65,
   "metadata": {
    "scrolled": false
   },
   "outputs": [
    {
     "name": "stdout",
     "output_type": "stream",
     "text": [
      "             precision    recall  f1-score   support\n",
      "\n",
      "          0       0.84      0.95      0.89       123\n",
      "          1       0.90      0.70      0.79        77\n",
      "\n",
      "avg / total       0.86      0.85      0.85       200\n",
      "\n"
     ]
    }
   ],
   "source": [
    "print(classification_report(y_test, predictions))"
   ]
  },
  {
   "cell_type": "markdown",
   "metadata": {},
   "source": [
    "The report reveals an almost even distribution between precision and recall, and as a result the f1-score is also quite high.\n",
    "\n",
    "In our case this is desirable, as we only care about getting as many as possible right. But in the case of for example virus detection, we might want to err on the side of caution and label a few *too many* programs as infected, yielding a lower precision but a higher recall."
   ]
  },
  {
   "cell_type": "markdown",
   "metadata": {},
   "source": [
    "## E. Experiments<a name=\"Part-E\"></a> <div class=\"pull-right\"><a class=\"anchor-link\" href=\"#top\">&#8679;</a></div>"
   ]
  },
  {
   "cell_type": "markdown",
   "metadata": {},
   "source": [
    "While an accuracy score of 85 percent is pretty good, we might be able to do better by tweaking the model.\n",
    "\n",
    "Some of the variables that can be tweaked in a neural network are:\n",
    "> - Network topology (number of nodes and layers)\n",
    "> - Batch size\n",
    "> - Number of epochs\n",
    "> - Learning rate\n",
    "> - Activation function\n",
    "\n",
    "Let's try those one by one."
   ]
  },
  {
   "cell_type": "markdown",
   "metadata": {},
   "source": [
    "### E.1 Vary number of nodes and layers<a name=\"Part-E1\"></a> <div class=\"pull-right\"><a class=\"anchor-link\" href=\"#top\">&#8679;</a></div>\n",
    "As I have already discussed this step in excercise 1, I will stop talking for a while and just run the code with first  1, 3 and 6 layers, then a layer size of 2, 5 and 20:"
   ]
  },
  {
   "cell_type": "code",
   "execution_count": 66,
   "metadata": {},
   "outputs": [
    {
     "data": {
      "text/plain": [
       "83.5"
      ]
     },
     "execution_count": 66,
     "metadata": {},
     "output_type": "execute_result"
    }
   ],
   "source": [
    "# build and train the network\n",
    "mlp = MLPClassifier(hidden_layer_sizes=(8), max_iter=1000, random_state=0)\n",
    "mlp.fit(X_train, y_train.values.ravel())\n",
    "\n",
    "# predict test values\n",
    "predictions = mlp.predict(X_test)\n",
    "\n",
    "# evaluate predictions\n",
    "conf_matrix = confusion_matrix(y_test, predictions)\n",
    "accuracy(conf_matrix)"
   ]
  },
  {
   "cell_type": "code",
   "execution_count": 67,
   "metadata": {},
   "outputs": [
    {
     "data": {
      "text/plain": [
       "85.0"
      ]
     },
     "execution_count": 67,
     "metadata": {},
     "output_type": "execute_result"
    }
   ],
   "source": [
    "# build and train the network\n",
    "mlp = MLPClassifier(hidden_layer_sizes=(8,8,8), max_iter=1000, random_state=0)\n",
    "mlp.fit(X_train, y_train.values.ravel())\n",
    "\n",
    "# predict test values\n",
    "predictions = mlp.predict(X_test)\n",
    "\n",
    "# evaluate predictions\n",
    "conf_matrix = confusion_matrix(y_test, predictions)\n",
    "accuracy(conf_matrix)"
   ]
  },
  {
   "cell_type": "code",
   "execution_count": 68,
   "metadata": {},
   "outputs": [
    {
     "data": {
      "text/plain": [
       "85.5"
      ]
     },
     "execution_count": 68,
     "metadata": {},
     "output_type": "execute_result"
    }
   ],
   "source": [
    "# build and train the network\n",
    "mlp = MLPClassifier(hidden_layer_sizes=(8,8,8,8,8,8), max_iter=1000, random_state=0)\n",
    "mlp.fit(X_train, y_train.values.ravel())\n",
    "\n",
    "# predict test values\n",
    "predictions = mlp.predict(X_test)\n",
    "\n",
    "# evaluate predictions\n",
    "conf_matrix = confusion_matrix(y_test, predictions)\n",
    "accuracy(conf_matrix)"
   ]
  },
  {
   "cell_type": "code",
   "execution_count": 69,
   "metadata": {},
   "outputs": [
    {
     "data": {
      "text/plain": [
       "86.0"
      ]
     },
     "execution_count": 69,
     "metadata": {},
     "output_type": "execute_result"
    }
   ],
   "source": [
    "# build and train the network\n",
    "mlp = MLPClassifier(hidden_layer_sizes=(2,2), max_iter=1000, random_state=0)\n",
    "mlp.fit(X_train, y_train.values.ravel())\n",
    "\n",
    "# predict test values\n",
    "predictions = mlp.predict(X_test)\n",
    "\n",
    "# evaluate predictions\n",
    "conf_matrix = confusion_matrix(y_test, predictions)\n",
    "accuracy(conf_matrix)"
   ]
  },
  {
   "cell_type": "code",
   "execution_count": 70,
   "metadata": {},
   "outputs": [
    {
     "data": {
      "text/plain": [
       "83.5"
      ]
     },
     "execution_count": 70,
     "metadata": {},
     "output_type": "execute_result"
    }
   ],
   "source": [
    "# build and train the network\n",
    "mlp = MLPClassifier(hidden_layer_sizes=(5,5), max_iter=1000, random_state=0)\n",
    "mlp.fit(X_train, y_train.values.ravel())\n",
    "\n",
    "# predict test values\n",
    "predictions = mlp.predict(X_test)\n",
    "\n",
    "# evaluate predictions\n",
    "conf_matrix = confusion_matrix(y_test, predictions)\n",
    "accuracy(conf_matrix)"
   ]
  },
  {
   "cell_type": "code",
   "execution_count": 71,
   "metadata": {},
   "outputs": [
    {
     "data": {
      "text/plain": [
       "85.5"
      ]
     },
     "execution_count": 71,
     "metadata": {},
     "output_type": "execute_result"
    }
   ],
   "source": [
    "# build and train the network\n",
    "mlp = MLPClassifier(hidden_layer_sizes=(20,20), max_iter=1000, random_state=0)\n",
    "mlp.fit(X_train, y_train.values.ravel())\n",
    "\n",
    "# predict test values\n",
    "predictions = mlp.predict(X_test)\n",
    "\n",
    "# evaluate predictions\n",
    "conf_matrix = confusion_matrix(y_test, predictions)\n",
    "accuracy(conf_matrix)"
   ]
  },
  {
   "cell_type": "markdown",
   "metadata": {},
   "source": [
    "Wow! As in exercise 1, we can once again confirm that many layers and neurons per layer are not necessarily a good thing.\n",
    "\n",
    "And with a little further experimentation, we reach a final score of 86.5:"
   ]
  },
  {
   "cell_type": "code",
   "execution_count": 72,
   "metadata": {},
   "outputs": [
    {
     "data": {
      "text/plain": [
       "86.5"
      ]
     },
     "execution_count": 72,
     "metadata": {},
     "output_type": "execute_result"
    }
   ],
   "source": [
    "# build and train the network\n",
    "mlp = MLPClassifier(hidden_layer_sizes=(2,2,2), max_iter=1000, random_state=0)\n",
    "mlp.fit(X_train, y_train.values.ravel())\n",
    "\n",
    "# predict test values\n",
    "predictions = mlp.predict(X_test)\n",
    "\n",
    "# evaluate predictions\n",
    "conf_matrix = confusion_matrix(y_test, predictions)\n",
    "accuracy(conf_matrix)"
   ]
  },
  {
   "cell_type": "markdown",
   "metadata": {},
   "source": [
    "Let's have a look again at the classification report:"
   ]
  },
  {
   "cell_type": "code",
   "execution_count": 73,
   "metadata": {},
   "outputs": [
    {
     "name": "stdout",
     "output_type": "stream",
     "text": [
      "             precision    recall  f1-score   support\n",
      "\n",
      "          0       0.88      0.91      0.89       123\n",
      "          1       0.85      0.79      0.82        77\n",
      "\n",
      "avg / total       0.86      0.86      0.86       200\n",
      "\n"
     ]
    }
   ],
   "source": [
    "print(classification_report(y_test, predictions))"
   ]
  },
  {
   "cell_type": "markdown",
   "metadata": {},
   "source": [
    "86 percent for each - perfect harmony!"
   ]
  },
  {
   "cell_type": "markdown",
   "metadata": {},
   "source": [
    "### E.2 Vary batch size<a name=\"Part-E2\"></a> <div class=\"pull-right\"><a class=\"anchor-link\" href=\"#top\">&#8679;</a></div>\n",
    "The batch size defines the size of the input data in each iteration, and a higher batch size is usually better (though not always possible, depending on the size of the dataset)."
   ]
  },
  {
   "cell_type": "code",
   "execution_count": 74,
   "metadata": {},
   "outputs": [
    {
     "data": {
      "text/plain": [
       "85.0"
      ]
     },
     "execution_count": 74,
     "metadata": {},
     "output_type": "execute_result"
    }
   ],
   "source": [
    "# build and train the network\n",
    "mlp = MLPClassifier(hidden_layer_sizes=(2,2,2), max_iter=1000, random_state=0, batch_size=10)\n",
    "mlp.fit(X_train, y_train.values.ravel())\n",
    "\n",
    "# predict test values\n",
    "predictions = mlp.predict(X_test)\n",
    "\n",
    "# evaluate predictions\n",
    "conf_matrix = confusion_matrix(y_test, predictions)\n",
    "accuracy(conf_matrix)"
   ]
  },
  {
   "cell_type": "code",
   "execution_count": 75,
   "metadata": {},
   "outputs": [
    {
     "data": {
      "text/plain": [
       "85.5"
      ]
     },
     "execution_count": 75,
     "metadata": {},
     "output_type": "execute_result"
    }
   ],
   "source": [
    "# build and train the network\n",
    "mlp = MLPClassifier(hidden_layer_sizes=(2,2,2), max_iter=1000, random_state=0, batch_size=100)\n",
    "mlp.fit(X_train, y_train.values.ravel())\n",
    "\n",
    "# predict test values\n",
    "predictions = mlp.predict(X_test)\n",
    "\n",
    "# evaluate predictions\n",
    "conf_matrix = confusion_matrix(y_test, predictions)\n",
    "accuracy(conf_matrix)"
   ]
  },
  {
   "cell_type": "code",
   "execution_count": 76,
   "metadata": {},
   "outputs": [
    {
     "data": {
      "text/plain": [
       "86.5"
      ]
     },
     "execution_count": 76,
     "metadata": {},
     "output_type": "execute_result"
    }
   ],
   "source": [
    "# build and train the network\n",
    "mlp = MLPClassifier(hidden_layer_sizes=(2,2,2), max_iter=1000, random_state=0, batch_size=200)\n",
    "mlp.fit(X_train, y_train.values.ravel())\n",
    "\n",
    "# predict test values\n",
    "predictions = mlp.predict(X_test)\n",
    "\n",
    "# evaluate predictions\n",
    "conf_matrix = confusion_matrix(y_test, predictions)\n",
    "accuracy(conf_matrix)"
   ]
  },
  {
   "cell_type": "code",
   "execution_count": 77,
   "metadata": {},
   "outputs": [
    {
     "data": {
      "text/plain": [
       "87.0"
      ]
     },
     "execution_count": 77,
     "metadata": {},
     "output_type": "execute_result"
    }
   ],
   "source": [
    "# build and train the network\n",
    "mlp = MLPClassifier(hidden_layer_sizes=(2,2,2), max_iter=1000, random_state=0, batch_size=500)\n",
    "mlp.fit(X_train, y_train.values.ravel())\n",
    "\n",
    "# predict test values\n",
    "predictions = mlp.predict(X_test)\n",
    "\n",
    "# evaluate predictions\n",
    "conf_matrix = confusion_matrix(y_test, predictions)\n",
    "accuracy(conf_matrix)"
   ]
  },
  {
   "cell_type": "code",
   "execution_count": 78,
   "metadata": {
    "scrolled": true
   },
   "outputs": [
    {
     "data": {
      "text/plain": [
       "88.0"
      ]
     },
     "execution_count": 78,
     "metadata": {},
     "output_type": "execute_result"
    }
   ],
   "source": [
    "# build and train the network\n",
    "mlp = MLPClassifier(hidden_layer_sizes=(2,2,2), max_iter=1000, random_state=0, batch_size=556)\n",
    "mlp.fit(X_train, y_train.values.ravel())\n",
    "\n",
    "# predict test values\n",
    "predictions = mlp.predict(X_test)\n",
    "\n",
    "# evaluate predictions\n",
    "conf_matrix = confusion_matrix(y_test, predictions)\n",
    "accuracy(conf_matrix)"
   ]
  },
  {
   "cell_type": "code",
   "execution_count": 79,
   "metadata": {},
   "outputs": [
    {
     "name": "stdout",
     "output_type": "stream",
     "text": [
      "             precision    recall  f1-score   support\n",
      "\n",
      "          0       0.88      0.93      0.91       123\n",
      "          1       0.88      0.79      0.84        77\n",
      "\n",
      "avg / total       0.88      0.88      0.88       200\n",
      "\n"
     ]
    }
   ],
   "source": [
    "print(classification_report(y_test, predictions))"
   ]
  },
  {
   "cell_type": "markdown",
   "metadata": {},
   "source": [
    "Wow, another considerable gain!"
   ]
  },
  {
   "cell_type": "markdown",
   "metadata": {},
   "source": [
    "### E.3 Vary number of epochs<a name=\"Part-E3\"></a> <div class=\"pull-right\"><a class=\"anchor-link\" href=\"#top\">&#8679;</a></div>\n",
    "The number of epochs (iterations) is the number of pairs of forward/backward passes performed."
   ]
  },
  {
   "cell_type": "code",
   "execution_count": 80,
   "metadata": {},
   "outputs": [
    {
     "name": "stderr",
     "output_type": "stream",
     "text": [
      "C:\\Users\\Niels\\Anaconda3\\lib\\site-packages\\sklearn\\neural_network\\multilayer_perceptron.py:564: ConvergenceWarning: Stochastic Optimizer: Maximum iterations (100) reached and the optimization hasn't converged yet.\n",
      "  % self.max_iter, ConvergenceWarning)\n"
     ]
    },
    {
     "data": {
      "text/plain": [
       "39.5"
      ]
     },
     "execution_count": 80,
     "metadata": {},
     "output_type": "execute_result"
    }
   ],
   "source": [
    "# build and train the network\n",
    "mlp = MLPClassifier(hidden_layer_sizes=(2,2,2), max_iter=100, random_state=0, batch_size=556)\n",
    "mlp.fit(X_train, y_train.values.ravel())\n",
    "\n",
    "# predict test values\n",
    "predictions = mlp.predict(X_test)\n",
    "\n",
    "# evaluate predictions\n",
    "conf_matrix = confusion_matrix(y_test, predictions)\n",
    "accuracy(conf_matrix)"
   ]
  },
  {
   "cell_type": "code",
   "execution_count": 81,
   "metadata": {},
   "outputs": [
    {
     "data": {
      "text/plain": [
       "88.0"
      ]
     },
     "execution_count": 81,
     "metadata": {},
     "output_type": "execute_result"
    }
   ],
   "source": [
    "# build and train the network\n",
    "mlp = MLPClassifier(hidden_layer_sizes=(2,2,2), max_iter=841, random_state=0, batch_size=556)\n",
    "mlp.fit(X_train, y_train.values.ravel())\n",
    "\n",
    "# predict test values\n",
    "predictions = mlp.predict(X_test)\n",
    "\n",
    "# evaluate predictions\n",
    "conf_matrix = confusion_matrix(y_test, predictions)\n",
    "accuracy(conf_matrix)"
   ]
  },
  {
   "cell_type": "code",
   "execution_count": 82,
   "metadata": {},
   "outputs": [
    {
     "data": {
      "text/plain": [
       "88.0"
      ]
     },
     "execution_count": 82,
     "metadata": {},
     "output_type": "execute_result"
    }
   ],
   "source": [
    "# build and train the network\n",
    "mlp = MLPClassifier(hidden_layer_sizes=(2,2,2), max_iter=1000000, random_state=0, batch_size=556)\n",
    "mlp.fit(X_train, y_train.values.ravel())\n",
    "\n",
    "# predict test values\n",
    "predictions = mlp.predict(X_test)\n",
    "\n",
    "# evaluate predictions\n",
    "conf_matrix = confusion_matrix(y_test, predictions)\n",
    "accuracy(conf_matrix)"
   ]
  },
  {
   "cell_type": "markdown",
   "metadata": {},
   "source": [
    "841 is apparently just enough for convergence with the default settings. Because convergence has already happened, increasing max_iter beyond that has no effect."
   ]
  },
  {
   "cell_type": "markdown",
   "metadata": {},
   "source": [
    "### E.4 Vary the learning rate<a name=\"Part-E4\"></a> <div class=\"pull-right\"><a class=\"anchor-link\" href=\"#top\">&#8679;</a></div>\n",
    "Increasing the initial learning rate while setting the learning rate configuration to 'adaptive' makes the code run much faster, but the results suffer:"
   ]
  },
  {
   "cell_type": "code",
   "execution_count": 83,
   "metadata": {},
   "outputs": [
    {
     "data": {
      "text/plain": [
       "85.0"
      ]
     },
     "execution_count": 83,
     "metadata": {},
     "output_type": "execute_result"
    }
   ],
   "source": [
    "# build and train the network\n",
    "mlp = MLPClassifier(hidden_layer_sizes=(2,2,2), max_iter=1000000, random_state=0, batch_size=556, learning_rate_init=0.01, learning_rate='adaptive')\n",
    "mlp.fit(X_train, y_train.values.ravel())\n",
    "\n",
    "# predict test values\n",
    "predictions = mlp.predict(X_test)\n",
    "\n",
    "# evaluate predictions\n",
    "conf_matrix = confusion_matrix(y_test, predictions)\n",
    "accuracy(conf_matrix)"
   ]
  },
  {
   "cell_type": "markdown",
   "metadata": {},
   "source": [
    "Tinkering further with the settings of those did not appear to yeild any gains."
   ]
  },
  {
   "cell_type": "markdown",
   "metadata": {},
   "source": [
    "### E.5 Vary the activation function<a name=\"Part-E5\"></a> <div class=\"pull-right\"><a class=\"anchor-link\" href=\"#top\">&#8679;</a></div>\n",
    "The activation function is what transforms the input to a neuron into its output. Here are my own Python implementations of the most common ones:"
   ]
  },
  {
   "cell_type": "code",
   "execution_count": 84,
   "metadata": {
    "scrolled": true
   },
   "outputs": [
    {
     "data": {
      "image/png": "[encoded data removed]",
      "text/plain": [
       "<Figure size 432x288 with 1 Axes>"
      ]
     },
     "metadata": {},
     "output_type": "display_data"
    }
   ],
   "source": [
    "import numpy as np\n",
    "\n",
    "def heaviside(X):\n",
    "    return 1 * [x >= 0 for x in X]\n",
    "\n",
    "def sgn(X):\n",
    "    return [int(x > 0) - int(x < 0) for x in X]\n",
    "\n",
    "def logistic(X):\n",
    "    return 1 / (1 + np.exp(-X))\n",
    "\n",
    "def tanh(X):\n",
    "    return 2 * logistic(2 * X) - 1\n",
    "\n",
    "def reLU(X):\n",
    "    return np.maximum(0, X)\n",
    "\n",
    "X = np.linspace(-4, 4, 100)\n",
    "\n",
    "plt.ylim(-1.2, 1.2)\n",
    "# plt.plot(X, heaviside(X), label='Step (heaviside)')\n",
    "plt.plot(X, sgn(X), label='Step (sgn)', linestyle='-')\n",
    "plt.plot(X, logistic(X), label='Logistic', linestyle='--')\n",
    "plt.plot(X, tanh(X), label='Tanh', linestyle='-.')\n",
    "plt.plot(X, reLU(X), label='ReLU', linestyle=':')\n",
    "\n",
    "plt.xlabel('x')\n",
    "plt.ylabel('f(x)')\n",
    "\n",
    "plt.title(\"Activation functions\")\n",
    "\n",
    "plt.legend()\n",
    "plt.show()"
   ]
  },
  {
   "cell_type": "code",
   "execution_count": 85,
   "metadata": {},
   "outputs": [
    {
     "data": {
      "text/plain": [
       "84.0"
      ]
     },
     "execution_count": 85,
     "metadata": {},
     "output_type": "execute_result"
    }
   ],
   "source": [
    "# build and train the network\n",
    "mlp = MLPClassifier(hidden_layer_sizes=(2,2,2), max_iter=1000, random_state=0, batch_size=556, activation='identity')\n",
    "mlp.fit(X_train, y_train.values.ravel())\n",
    "\n",
    "# predict test values\n",
    "predictions = mlp.predict(X_test)\n",
    "\n",
    "# evaluate predictions\n",
    "conf_matrix = confusion_matrix(y_test, predictions)\n",
    "accuracy(conf_matrix)"
   ]
  },
  {
   "cell_type": "code",
   "execution_count": 86,
   "metadata": {},
   "outputs": [
    {
     "data": {
      "text/plain": [
       "61.5"
      ]
     },
     "execution_count": 86,
     "metadata": {},
     "output_type": "execute_result"
    }
   ],
   "source": [
    "# build and train the network\n",
    "mlp = MLPClassifier(hidden_layer_sizes=(2,2,2), max_iter=1000, random_state=0, batch_size=556, activation='logistic')\n",
    "mlp.fit(X_train, y_train.values.ravel())\n",
    "\n",
    "# predict test values\n",
    "predictions = mlp.predict(X_test)\n",
    "\n",
    "# evaluate predictions\n",
    "conf_matrix = confusion_matrix(y_test, predictions)\n",
    "accuracy(conf_matrix)"
   ]
  },
  {
   "cell_type": "code",
   "execution_count": 87,
   "metadata": {},
   "outputs": [
    {
     "data": {
      "text/plain": [
       "82.5"
      ]
     },
     "execution_count": 87,
     "metadata": {},
     "output_type": "execute_result"
    }
   ],
   "source": [
    "# build and train the network\n",
    "mlp = MLPClassifier(hidden_layer_sizes=(2,2,2), max_iter=1000, random_state=0, batch_size=556, activation='tanh')\n",
    "mlp.fit(X_train, y_train.values.ravel())\n",
    "\n",
    "# predict test values\n",
    "predictions = mlp.predict(X_test)\n",
    "\n",
    "# evaluate predictions\n",
    "conf_matrix = confusion_matrix(y_test, predictions)\n",
    "accuracy(conf_matrix)"
   ]
  },
  {
   "cell_type": "markdown",
   "metadata": {},
   "source": [
    "'ReLU' is widely accepted as the optimal activation function today. scikit-learn's MLPClassifier uses this as the default, so it is no surprise that there is nothing to be gained from changing it."
   ]
  },
  {
   "cell_type": "markdown",
   "metadata": {},
   "source": [
    "### E.6 Cross-validation<a name=\"Part-E6\"></a> <div class=\"pull-right\"><a class=\"anchor-link\" href=\"#top\">&#8679;</a></div>\n",
    "\n",
    "As a final test before turning our attention to other algorithms, let's quickly try cross-validation:"
   ]
  },
  {
   "cell_type": "code",
   "execution_count": 88,
   "metadata": {},
   "outputs": [
    {
     "name": "stdout",
     "output_type": "stream",
     "text": [
      "0.8\n",
      "0.715\n",
      "0.8\n"
     ]
    },
    {
     "data": {
      "text/plain": [
       "85.0"
      ]
     },
     "execution_count": 88,
     "metadata": {},
     "output_type": "execute_result"
    }
   ],
   "source": [
    "from sklearn.model_selection import KFold\n",
    "\n",
    "kf = KFold(n_splits=3)\n",
    "clf = MLPClassifier(hidden_layer_sizes=(2,2,2), max_iter=841, random_state=0, batch_size=300)\n",
    "y_ravel = y_train.values.ravel()\n",
    "\n",
    "for train_indices, val_indices in kf.split(X_train):\n",
    "    clf.fit(X_train[train_indices], y_ravel[train_indices])\n",
    "    print(clf.score(X_train[val_indices], y_ravel[val_indices]))\n",
    "\n",
    "# predict test values\n",
    "predictions = clf.predict(X_test)\n",
    "\n",
    "# evaluate predictions\n",
    "conf_matrix = confusion_matrix(y_test, predictions)\n",
    "accuracy(conf_matrix)"
   ]
  },
  {
   "cell_type": "markdown",
   "metadata": {},
   "source": [
    "As expected, the model performs worse subjected to cross-validation. Given more time, it might make sense to try to fix that by re-tuning the hyperparameters using cross-validation."
   ]
  },
  {
   "cell_type": "markdown",
   "metadata": {},
   "source": [
    "### E.7 Other algorithms<a name=\"Part-E7\"></a> <div class=\"pull-right\"><a class=\"anchor-link\" href=\"#top\">&#8679;</a></div>"
   ]
  },
  {
   "cell_type": "code",
   "execution_count": 89,
   "metadata": {},
   "outputs": [
    {
     "data": {
      "text/plain": [
       "85.5"
      ]
     },
     "execution_count": 89,
     "metadata": {},
     "output_type": "execute_result"
    }
   ],
   "source": [
    "from sklearn import linear_model\n",
    "\n",
    "logreg = linear_model.LogisticRegression()\n",
    "logreg.fit(X_train, y_train.values.ravel())\n",
    "\n",
    "# predict test values\n",
    "predictions = logreg.predict(X_test)\n",
    "\n",
    "# evaluate predictions\n",
    "conf_matrix = confusion_matrix(y_test, predictions)\n",
    "accuracy(conf_matrix)"
   ]
  },
  {
   "cell_type": "code",
   "execution_count": 90,
   "metadata": {},
   "outputs": [
    {
     "data": {
      "text/plain": [
       "84.0"
      ]
     },
     "execution_count": 90,
     "metadata": {},
     "output_type": "execute_result"
    }
   ],
   "source": [
    "from sklearn.cluster import KMeans\n",
    "\n",
    "kmeans = KMeans(n_clusters=2).fit(X_train)\n",
    "\n",
    "# predict test values\n",
    "predictions = kmeans.predict(X_test)\n",
    "\n",
    "# evaluate predictions\n",
    "conf_matrix = confusion_matrix(y_test, predictions)\n",
    "accuracy(conf_matrix)"
   ]
  },
  {
   "cell_type": "code",
   "execution_count": 91,
   "metadata": {},
   "outputs": [
    {
     "data": {
      "text/plain": [
       "77.5"
      ]
     },
     "execution_count": 91,
     "metadata": {},
     "output_type": "execute_result"
    }
   ],
   "source": [
    "from sklearn import tree\n",
    "\n",
    "dtree = tree.DecisionTreeClassifier()\n",
    "dtree.fit(X_train, y_train.values.ravel())\n",
    "\n",
    "# predict test values\n",
    "predictions = dtree.predict(X_test)\n",
    "\n",
    "# evaluate predictions\n",
    "conf_matrix = confusion_matrix(y_test, predictions)\n",
    "accuracy(conf_matrix)"
   ]
  },
  {
   "cell_type": "code",
   "execution_count": 92,
   "metadata": {},
   "outputs": [
    {
     "data": {
      "text/plain": [
       "82.0"
      ]
     },
     "execution_count": 92,
     "metadata": {},
     "output_type": "execute_result"
    }
   ],
   "source": [
    "from sklearn.ensemble import RandomForestClassifier\n",
    "\n",
    "rforest = RandomForestClassifier()\n",
    "rforest.fit(X_train, y_train.values.ravel())\n",
    "\n",
    "# predict test values\n",
    "predictions = rforest.predict(X_test)\n",
    "\n",
    "# evaluate predictions\n",
    "conf_matrix = confusion_matrix(y_test, predictions)\n",
    "accuracy(conf_matrix)"
   ]
  },
  {
   "cell_type": "code",
   "execution_count": 93,
   "metadata": {},
   "outputs": [
    {
     "data": {
      "text/plain": [
       "87.0"
      ]
     },
     "execution_count": 93,
     "metadata": {},
     "output_type": "execute_result"
    }
   ],
   "source": [
    "from sklearn.svm import SVC\n",
    "\n",
    "# build and train the model\n",
    "clf = SVC(C=6)\n",
    "clf.fit(X_train, y_train.values.ravel())\n",
    "\n",
    "# predict test values\n",
    "predictions = clf.predict(X_test)\n",
    "\n",
    "# evaluate predictions\n",
    "conf_matrix = confusion_matrix(y_test, predictions)\n",
    "accuracy(conf_matrix)"
   ]
  },
  {
   "cell_type": "code",
   "execution_count": 94,
   "metadata": {},
   "outputs": [
    {
     "data": {
      "text/plain": [
       "83.0"
      ]
     },
     "execution_count": 94,
     "metadata": {},
     "output_type": "execute_result"
    }
   ],
   "source": [
    "# build and train the model\n",
    "clf = SVC(kernel='poly', degree=3, C=20, coef0=0.5)\n",
    "clf.fit(X_train, y_train.values.ravel())\n",
    "\n",
    "# predict test values\n",
    "predictions = clf.predict(X_test)\n",
    "\n",
    "# evaluate predictions\n",
    "conf_matrix = confusion_matrix(y_test, predictions)\n",
    "accuracy(conf_matrix)"
   ]
  },
  {
   "cell_type": "code",
   "execution_count": 95,
   "metadata": {},
   "outputs": [
    {
     "data": {
      "text/plain": [
       "84.0"
      ]
     },
     "execution_count": 95,
     "metadata": {},
     "output_type": "execute_result"
    }
   ],
   "source": [
    "# build and train the model\n",
    "clf = SVC(kernel='linear')\n",
    "clf.fit(X_train, y_train.values.ravel())\n",
    "\n",
    "# predict test values\n",
    "predictions = clf.predict(X_test)\n",
    "\n",
    "# evaluate predictions\n",
    "conf_matrix = confusion_matrix(y_test, predictions)\n",
    "accuracy(conf_matrix)"
   ]
  },
  {
   "cell_type": "markdown",
   "metadata": {},
   "source": [
    "## Conclusion<a name=\"Conclusion\"></a> <div class=\"pull-right\"><a class=\"anchor-link\" href=\"#top\">&#8679;</a></div>\n",
    "The neural network was as a clear winner (even though I should caution that I didn't spend much time tweaking the other models). By tweaking the variables one by one, it was possible to increase the accuracy score from an initial respectable 85.5 to 88.\n",
    "\n",
    "The relatively high scores for the other models confirm the importance of the initial careful preparation of the data. With more time, efford and ingenuity, it would likely be possible to reach even higher.\n",
    "\n",
    "Here is the winning configuration:"
   ]
  },
  {
   "cell_type": "code",
   "execution_count": 96,
   "metadata": {},
   "outputs": [
    {
     "data": {
      "text/plain": [
       "88.0"
      ]
     },
     "execution_count": 96,
     "metadata": {},
     "output_type": "execute_result"
    }
   ],
   "source": [
    "# build and train the network\n",
    "mlp = MLPClassifier(hidden_layer_sizes=(2,2,2), max_iter=841, random_state=0, batch_size=556)\n",
    "mlp.fit(X_train, y_train.values.ravel())\n",
    "\n",
    "# predict test values\n",
    "predictions = mlp.predict(X_test)\n",
    "\n",
    "# evaluate predictions\n",
    "conf_matrix = confusion_matrix(y_test, predictions)\n",
    "accuracy(conf_matrix)"
   ]
  },
  {
   "cell_type": "markdown",
   "metadata": {},
   "source": [
    "## A final note of caution<a name=\"Final-note\"></a> <div class=\"pull-right\"><a class=\"anchor-link\" href=\"#top\">&#8679;</a></div>\n",
    "In the context of this assignment, we only split the data into training and test sets, so no separate validation set.\n",
    "\n",
    "As the quick test of k-fold cross-validation appears to confirm, this simplified method carries a risk of overfitting on the test set during hyper-parameter tuning (see <a href=\"#sklearn18\">sklearn18</a>). For this reason, the final score is hardly a reliable estimator of the model's performance on unseen data.\n",
    "\n",
    "However, because of the small size of the data set, the extra splitting done in cross-validation introduces further uncertainty, so this result is not entirely reliable either. As always, the best remedy would be more data."
   ]
  },
  {
   "cell_type": "markdown",
   "metadata": {},
   "source": [
    "## References<a name=\"References\"></a> <div class=\"pull-right\"><a class=\"anchor-link\" href=\"#top\">&#8679;</a></div>"
   ]
  },
  {
   "cell_type": "markdown",
   "metadata": {},
   "source": [
    "<div class=\"col-md-1\">[Geron17]</div><div class=\"col-md-11\">Géron, Aurélien. *Hands-on machine learning with Scikit-Learn and TensorFlow*. O'Reilly Media, Inc., 2017.<a name=\"Geron17\"></a></div>\n",
    "<div>&nbsp;</div>\n",
    "<div class=\"col-md-1\">[Ng]</div><div class=\"col-md-11\">Ng, Andrew - *Train / Dev / Test sets* (video). Coursera.<br> https://www.coursera.org/learn/deep-neural-network/lecture/cxG1s/train-dev-test-sets<a name=\"Ng\"></a></div>\n",
    "<div>&nbsp;</div>\n",
    "<div class=\"col-md-1\">[sklearn18]</div><div class=\"col-md-11\">scikit-learn developers - *Cross-validation: evaluating estimator performance*. scikit-learn.org, 2018.<br> http://scikit-learn.org/stable/modules/cross_validation.html<a name=\"sklearn18\"></a></div>"
   ]
  }
 ],
 "metadata": {
  "kernelspec": {
   "display_name": "Python 3",
   "language": "python",
   "name": "python3"
  },
  "language_info": {
   "codemirror_mode": {
    "name": "ipython",
    "version": 3
   },
   "file_extension": ".py",
   "mimetype": "text/x-python",
   "name": "python",
   "nbconvert_exporter": "python",
   "pygments_lexer": "ipython3",
   "version": "3.6.5"
  }
 },
 "nbformat": 4,
 "nbformat_minor": 2
}
